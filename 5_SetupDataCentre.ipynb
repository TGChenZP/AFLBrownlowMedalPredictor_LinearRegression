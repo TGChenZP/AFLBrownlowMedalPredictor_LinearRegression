{
 "cells": [
  {
   "cell_type": "markdown",
   "metadata": {},
   "source": [
    "# 5. Setup Data Centre for Predictor Statistics #\n",
    "## For Brownlow Predictor Project ##\n",
    "\n",
    "Creates a .csv file to store predictor statistics\n",
    "\n",
    "**Author: `Lang (Ron) Chen` 2021.12-2022.1**\n",
    "\n",
    "---"
   ]
  },
  {
   "cell_type": "markdown",
   "metadata": {},
   "source": [
    "**0. Import Libraries**"
   ]
  },
  {
   "cell_type": "code",
   "execution_count": 1,
   "metadata": {},
   "outputs": [],
   "source": [
    "import pandas as pd\n",
    "import os"
   ]
  },
  {
   "cell_type": "markdown",
   "metadata": {},
   "source": [
    "**1. Setup Central Storage Database for Regular models**"
   ]
  },
  {
   "cell_type": "code",
   "execution_count": 2,
   "metadata": {},
   "outputs": [],
   "source": [
    "# First create a dictionary of empty lists which is a placeholder for each of the 40-ish columns\n",
    "\n",
    "cent_storage_cols = {'Method': list(), 'Datatype': list(), 'Use': list(), 'Feature Selection Value': list(), 'Feature Selection Rule': list(), \n",
    "       'Winloss': list(), 'Fold': list(), 'TP0': list(), 'TP0.5': list(), 'TP1': list(), 'TP2': list(), 'TP3': list(), 'Coef1': list(), \n",
    "       'Coef2': list(),\n",
    "        'P1': list(), 'V1': list(),\n",
    "        'P2': list(), 'V2': list(),\n",
    "        'P3': list(), 'V3': list(),\n",
    "        'P4': list(), 'V4': list(),\n",
    "        'P5': list(), 'V5': list(),\n",
    "        'P6': list(), 'V6': list(),\n",
    "        'P7': list(), 'V7': list(),\n",
    "        'P8': list(), 'V8': list(),\n",
    "        'P9': list(), 'V9': list(),\n",
    "        'P10': list(), 'V10': list(),\n",
    "        'P11': list(), 'V11': list(),\n",
    "        'P12': list(), 'V12': list(),\n",
    "        'P13': list(), 'V13': list(),\n",
    "        'P14': list(), 'V14': list(),\n",
    "        'P15': list(), 'V15': list(),\n",
    "        'P16': list(), 'V16': list(),\n",
    "        'P17': list(), 'V17': list(),\n",
    "        'P18': list(), 'V18': list(),\n",
    "        'P19': list(), 'V19': list(),\n",
    "        'P20': list(), 'V20': list()}\n",
    "\n",
    "\n",
    "\n",
    "# Create DataFrame and export\n",
    "\n",
    "central_data = pd.DataFrame(cent_storage_cols)\n",
    "central_data.to_csv('Central_Statistics.csv', index = False)"
   ]
  },
  {
   "cell_type": "markdown",
   "metadata": {},
   "source": [
    "**2. Setup Central Storage Database for PCA models**"
   ]
  },
  {
   "cell_type": "code",
   "execution_count": 2,
   "metadata": {},
   "outputs": [],
   "source": [
    "# First create a dictionary of empty lists which is a placeholder for each of the 40-ish columns\n",
    "\n",
    "cent_storage_cols = {'Method': list(), 'Datatype': list(), 'Use': list(), 'Feature Selection Value': list(), 'n_PCA': list(), \n",
    "       'Winloss': list(), 'Fold': list(), 'TP0': list(), 'TP0.5': list(), 'TP1': list(), 'TP2': list(), 'TP3': list(), 'Coef1': list(), \n",
    "       'Coef2': list(),\n",
    "        'P1': list(), 'V1': list(),\n",
    "        'P2': list(), 'V2': list(),\n",
    "        'P3': list(), 'V3': list(),\n",
    "        'P4': list(), 'V4': list(),\n",
    "        'P5': list(), 'V5': list(),\n",
    "        'P6': list(), 'V6': list(),\n",
    "        'P7': list(), 'V7': list(),\n",
    "        'P8': list(), 'V8': list(),\n",
    "        'P9': list(), 'V9': list(),\n",
    "        'P10': list(), 'V10': list(),\n",
    "        'P11': list(), 'V11': list(),\n",
    "        'P12': list(), 'V12': list(),\n",
    "        'P13': list(), 'V13': list(),\n",
    "        'P14': list(), 'V14': list(),\n",
    "        'P15': list(), 'V15': list(),\n",
    "        'P16': list(), 'V16': list(),\n",
    "        'P17': list(), 'V17': list(),\n",
    "        'P18': list(), 'V18': list(),\n",
    "        'P19': list(), 'V19': list(),\n",
    "        'P20': list(), 'V20': list()}\n",
    "\n",
    "\n",
    "\n",
    "# Create DataFrame and export\n",
    "\n",
    "central_data = pd.DataFrame(cent_storage_cols)\n",
    "central_data.to_csv('Central_StatisticsPCA.csv', index = False)"
   ]
  },
  {
   "cell_type": "markdown",
   "metadata": {},
   "source": [
    "---\n",
    "\n",
    "#### *Note:* \n",
    "*When re-setting up just one type of central storage remember to comment out the other with `ctrl-/`*"
   ]
  },
  {
   "cell_type": "code",
   "execution_count": null,
   "metadata": {},
   "outputs": [],
   "source": []
  }
 ],
 "metadata": {
  "kernelspec": {
   "display_name": "Python 3 (ipykernel)",
   "language": "python",
   "name": "python3"
  },
  "language_info": {
   "codemirror_mode": {
    "name": "ipython",
    "version": 3
   },
   "file_extension": ".py",
   "mimetype": "text/x-python",
   "name": "python",
   "nbconvert_exporter": "python",
   "pygments_lexer": "ipython3",
   "version": "3.9.7"
  }
 },
 "nbformat": 4,
 "nbformat_minor": 4
}
