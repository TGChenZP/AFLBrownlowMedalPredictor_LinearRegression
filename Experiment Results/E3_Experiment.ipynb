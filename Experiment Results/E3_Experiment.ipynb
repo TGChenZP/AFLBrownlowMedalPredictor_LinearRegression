{
 "cells": [
  {
   "cell_type": "markdown",
   "id": "d029de9b-0871-4013-898f-0390aaa80cbe",
   "metadata": {
    "tags": []
   },
   "source": [
    "# Experiment Preparation 3. Experiment  #\n",
    "## For Brownlow Predictor Project ##\n",
    "\n",
    "This notebook is a sample of performing an experiment\n",
    "\n",
    "**Author: `Lang (Ron) Chen` 2021.12-2022.1**\n",
    "\n",
    "---"
   ]
  },
  {
   "cell_type": "markdown",
   "id": "9d0a01bd-2c5b-4a64-8420-7c8ee95542f4",
   "metadata": {},
   "source": [
    "**0. Import Libraries**"
   ]
  },
  {
   "cell_type": "code",
   "execution_count": 18,
   "id": "a65c0331-47d2-41d6-ab7d-967b29ca27b4",
   "metadata": {},
   "outputs": [],
   "source": [
    "import pandas as pd"
   ]
  },
  {
   "cell_type": "code",
   "execution_count": 22,
   "id": "3084a1a5-f12e-425b-91b8-32371a1358d3",
   "metadata": {},
   "outputs": [],
   "source": [
    "f = pd.read_csv(\"./Groupby Output/All.csv\")\n",
    "f = f[f['WinLoss'] == 'In'] # as Winloss in and out makes no difference"
   ]
  },
  {
   "cell_type": "markdown",
   "id": "d36fe707-a4da-4dfe-bc0f-dca1430a1e1a",
   "metadata": {},
   "source": [
    "**1. Perform Experiment**"
   ]
  },
  {
   "cell_type": "markdown",
   "id": "0475acdc-618f-42e9-821e-90fafb022114",
   "metadata": {},
   "source": [
    "Experiment 1"
   ]
  },
  {
   "cell_type": "code",
   "execution_count": 4,
   "id": "01aa6ff5-515d-4eed-a1c4-9b869a1f673b",
   "metadata": {},
   "outputs": [],
   "source": [
    "# Here perform experiment on effect of changing FS_Rule\n",
    "for char, model in f.groupby(['Method', 'Datatype', 'Use', 'FS_Val']):\n",
    "    a = model[model['FS_Rule'] == 1]\n",
    "    a.index = [0]\n",
    "    b = model[model['FS_Rule'] == i]   \n",
    "    \n",
    "    \n",
    "    \n",
    "    if len(b) and len(a):\n",
    "        a.index = [0]\n",
    "        b.index = [0]\n",
    "        t += 1\n",
    "        if b.loc[0][mod] > a.loc[0][mod]:\n",
    "            y += 1\n",
    "        elif b.loc[0][mod] < a.loc[0][mod]:\n",
    "\n",
    "            n += 1\n",
    "        else:\n",
    "            e += 1"
   ]
  },
  {
   "cell_type": "code",
   "execution_count": 5,
   "id": "4159d82a-a713-46ba-87ab-458e16b1b513",
   "metadata": {},
   "outputs": [
    {
     "data": {
      "text/plain": [
       "0.7386363636363636"
      ]
     },
     "execution_count": 5,
     "metadata": {},
     "output_type": "execute_result"
    }
   ],
   "source": [
    "y/t"
   ]
  },
  {
   "cell_type": "code",
   "execution_count": 6,
   "id": "9d19670d-ff3a-480c-8cb3-b593870539da",
   "metadata": {},
   "outputs": [
    {
     "data": {
      "text/plain": [
       "0.2159090909090909"
      ]
     },
     "execution_count": 6,
     "metadata": {},
     "output_type": "execute_result"
    }
   ],
   "source": [
    "n/t"
   ]
  },
  {
   "cell_type": "code",
   "execution_count": 7,
   "id": "cacf0dcc-452e-449a-a013-0921b6e19644",
   "metadata": {},
   "outputs": [
    {
     "data": {
      "text/plain": [
       "0.045454545454545456"
      ]
     },
     "execution_count": 7,
     "metadata": {},
     "output_type": "execute_result"
    }
   ],
   "source": [
    "e/t"
   ]
  },
  {
   "cell_type": "code",
   "execution_count": 8,
   "id": "e1638904-2b65-425c-bfd4-62bebf2ab42a",
   "metadata": {},
   "outputs": [
    {
     "data": {
      "text/plain": [
       "176"
      ]
     },
     "execution_count": 8,
     "metadata": {},
     "output_type": "execute_result"
    }
   ],
   "source": [
    "t"
   ]
  },
  {
   "cell_type": "markdown",
   "id": "20b6e586-2a78-4896-bf9c-737387cf9c66",
   "metadata": {},
   "source": [
    " Experiment 2"
   ]
  },
  {
   "cell_type": "code",
   "execution_count": 9,
   "id": "d97f13f4-1d7a-4dda-8e38-12818accad0c",
   "metadata": {},
   "outputs": [],
   "source": [
    "y = 0\n",
    "n = 0\n",
    "e = 0\n",
    "t = 0\n",
    "mod = 'm2_Winner'"
   ]
  },
  {
   "cell_type": "code",
   "execution_count": 10,
   "id": "caa26950-50b2-4515-94f1-90ff65dfda74",
   "metadata": {},
   "outputs": [],
   "source": [
    "# Here perform experiment on effect of changing FS_Val\n",
    "for char, model in f.groupby(['Method', 'Datatype', 'Use', 'FS_Rule']):\n",
    "    model.index = range(len(model))   \n",
    "    \n",
    "    for i in model.index[1:]:\n",
    "\n",
    "        t += 1\n",
    "        if model.loc[i][mod] > model.loc[0][mod]:\n",
    "            y += 1\n",
    "        elif model.loc[i][mod] < model.loc[0][mod]:\n",
    "\n",
    "            n += 1\n",
    "        else:\n",
    "            e += 1"
   ]
  },
  {
   "cell_type": "code",
   "execution_count": 11,
   "id": "7fad708e-64d0-4059-83d3-03be8952cae2",
   "metadata": {},
   "outputs": [
    {
     "data": {
      "text/plain": [
       "0.05232558139534884"
      ]
     },
     "execution_count": 11,
     "metadata": {},
     "output_type": "execute_result"
    }
   ],
   "source": [
    "y/t"
   ]
  },
  {
   "cell_type": "code",
   "execution_count": 12,
   "id": "7378fa8b-4dd0-4f50-9f0c-2f861e246af5",
   "metadata": {},
   "outputs": [
    {
     "data": {
      "text/plain": [
       "0.29069767441860467"
      ]
     },
     "execution_count": 12,
     "metadata": {},
     "output_type": "execute_result"
    }
   ],
   "source": [
    "n/t"
   ]
  },
  {
   "cell_type": "code",
   "execution_count": 13,
   "id": "2c5ee53a-4ebd-4511-9eae-d3489214c40e",
   "metadata": {},
   "outputs": [
    {
     "data": {
      "text/plain": [
       "0.6569767441860465"
      ]
     },
     "execution_count": 13,
     "metadata": {},
     "output_type": "execute_result"
    }
   ],
   "source": [
    "e/t"
   ]
  },
  {
   "cell_type": "code",
   "execution_count": 14,
   "id": "02ad8dbf-4dff-4681-bfe5-0feb9f00ea5e",
   "metadata": {},
   "outputs": [
    {
     "data": {
      "text/plain": [
       "344"
      ]
     },
     "execution_count": 14,
     "metadata": {},
     "output_type": "execute_result"
    }
   ],
   "source": [
    "t"
   ]
  },
  {
   "cell_type": "code",
   "execution_count": 3,
   "id": "636e638a-46c0-47c2-b206-2f60eb308d36",
   "metadata": {},
   "outputs": [],
   "source": [
    "y = 0\n",
    "n = 0\n",
    "e = 0\n",
    "t = 0\n",
    "mod = 'tp3'\n",
    "i = 2"
   ]
  }
 ],
 "metadata": {
  "kernelspec": {
   "display_name": "Python 3 (ipykernel)",
   "language": "python",
   "name": "python3"
  },
  "language_info": {
   "codemirror_mode": {
    "name": "ipython",
    "version": 3
   },
   "file_extension": ".py",
   "mimetype": "text/x-python",
   "name": "python",
   "nbconvert_exporter": "python",
   "pygments_lexer": "ipython3",
   "version": "3.9.7"
  }
 },
 "nbformat": 4,
 "nbformat_minor": 5
}
