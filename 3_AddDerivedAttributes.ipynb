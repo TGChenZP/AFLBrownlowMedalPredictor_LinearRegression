{
 "cells": [
  {
   "cell_type": "markdown",
   "metadata": {},
   "source": [
    "# 3. Adding Derived Attributes to existing Data #\n",
    "## For Brownlow Predictor Project ##\n",
    "\n",
    "Adds Derived Attributes of \n",
    "- [x] Uncontested Marks\n",
    "- [x] Marks Outside 50\n",
    "- [x] Tackles Outside 50\n",
    "- [x] Behind Assists\n",
    "- [x] Effective Disposals\n",
    "- [x] Ineffective Disposals\n",
    "\n",
    "and deleted\n",
    "- [ ] Disposal Efficiency %\n",
    "\n",
    "from data\n",
    "\n",
    "*Completes the data picture in terms of all the 'Disposals/Kicks/Handball' triangle relationship, and resolves the problem of having a column of data being a percentage*\n",
    "\n",
    "**Author: `Lang (Ron) Chen` 2021.12-2022.1**\n",
    "\n",
    "---"
   ]
  },
  {
   "cell_type": "markdown",
   "metadata": {},
   "source": [
    "**0. Import Libraries**"
   ]
  },
  {
   "cell_type": "code",
   "execution_count": 1,
   "metadata": {},
   "outputs": [],
   "source": [
    "import pandas as pd\n",
    "import os"
   ]
  },
  {
   "cell_type": "code",
   "execution_count": 2,
   "metadata": {},
   "outputs": [],
   "source": [
    "choice = 'OriginalData'"
   ]
  },
  {
   "cell_type": "markdown",
   "metadata": {},
   "source": [
    "**1. Opens each file and performs operation**"
   ]
  },
  {
   "cell_type": "code",
   "execution_count": 7,
   "metadata": {},
   "outputs": [],
   "source": [
    "# Grabs a list of the files\n",
    "filelist = os.listdir(f'./Data/{choice}')[1:]\n",
    "# Remove the first file (an ipynb checkpoint file)\n",
    "filelist.sort()"
   ]
  },
  {
   "cell_type": "code",
   "execution_count": 9,
   "metadata": {},
   "outputs": [
    {
     "name": "stdout",
     "output_type": "stream",
     "text": [
      "CPU times: user 1 µs, sys: 0 ns, total: 1 µs\n",
      "Wall time: 3.1 µs\n"
     ]
    }
   ],
   "source": [
    "%time\n",
    "\n",
    "# Open all the files, performs operations and exports them to a new folder\n",
    "\n",
    "for file in filelist[1:]:\n",
    "    df = pd.read_csv(f'./Data/{choice}/{file}')\n",
    "    \n",
    "    df['Uncontested Marks'] = df['Marks'].sub(df['Contested Marks'])\n",
    "    df['Marks Outside 50'] = df['Marks'].sub(df['Marks Inside 50'])\n",
    "    df['Tackles Outside 50'] = df['Tackles'].sub(df['Tackles Inside 50'])\n",
    "    df['Behind Assists'] = df['Score Involvements'].sub(df['Goal Assists'])\n",
    "    df['Effective Disposals'] = df['Disposals'].mul(df['Disposal Efficiency %']*0.01).round(0)\n",
    "    df['Ineffective Disposals'] = df['Disposals'].sub(df['Effective Disposals'])\n",
    "    \n",
    "    df = df.drop('Disposal Efficiency %', axis = 1)\n",
    "    \n",
    "    df.to_csv(f'./Data/OriginalData_AddDerived/{file}', index = False)"
   ]
  },
  {
   "cell_type": "code",
   "execution_count": null,
   "metadata": {},
   "outputs": [],
   "source": []
  }
 ],
 "metadata": {
  "kernelspec": {
   "display_name": "Python 3.9.7 ('base')",
   "language": "python",
   "name": "python3"
  },
  "language_info": {
   "codemirror_mode": {
    "name": "ipython",
    "version": 3
   },
   "file_extension": ".py",
   "mimetype": "text/x-python",
   "name": "python",
   "nbconvert_exporter": "python",
   "pygments_lexer": "ipython3",
   "version": "3.9.7"
  },
  "vscode": {
   "interpreter": {
    "hash": "cd78fef2128015050713e82ca51c6520b11aee7c9ee8df750520bbbc7384cbaa"
   }
  }
 },
 "nbformat": 4,
 "nbformat_minor": 4
}
