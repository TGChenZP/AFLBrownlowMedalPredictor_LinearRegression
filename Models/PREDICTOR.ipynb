{
 "cells": [
  {
   "cell_type": "markdown",
   "id": "9623ecef-4825-47c5-9a2a-72540520897b",
   "metadata": {},
   "source": [
    "# PREDICTOR ##\n",
    "\n",
    "Platform for running real predictions\n",
    "\n",
    "**Author: `Lang (Ron) Chen` 2021.12-2022.1**\n",
    "\n",
    "___"
   ]
  },
  {
   "cell_type": "markdown",
   "id": "af25ac19-0a1a-402b-b564-1eba855b3ce2",
   "metadata": {},
   "source": [
    "**0. Import Libraries**"
   ]
  },
  {
   "cell_type": "code",
   "execution_count": 1,
   "id": "f1a496d9-6db1-40c1-a308-3c15e318885e",
   "metadata": {},
   "outputs": [],
   "source": [
    "import pandas as pd\n",
    "import pickle\n",
    "from collections import defaultdict as dd\n",
    "import numpy as np\n",
    "import os"
   ]
  },
  {
   "cell_type": "code",
   "execution_count": 2,
   "id": "c3d2cec9-367f-49d5-907c-aea8966a2d39",
   "metadata": {},
   "outputs": [],
   "source": [
    "choiceDict = {'NormalisedData': 'N', 'StandardisedData': 'S', 'RankStandardisedData': 'RS', \n",
    "          'PercentageData': 'P'}"
   ]
  },
  {
   "cell_type": "markdown",
   "id": "a25097b7-eccf-439a-a917-08c44a1ea85d",
   "metadata": {},
   "source": [
    "**1. Select Year and Import Relevent Files**"
   ]
  },
  {
   "cell_type": "code",
   "execution_count": 3,
   "id": "91591553-2edb-4db3-bfe3-2fdc0de06b06",
   "metadata": {},
   "outputs": [],
   "source": [
    "MODEL = 1\n",
    "# MODEL = 2\n",
    "# MODEL = 3"
   ]
  },
  {
   "cell_type": "code",
   "execution_count": 4,
   "id": "27da6595-1c28-49f3-b399-f096f04670f7",
   "metadata": {},
   "outputs": [],
   "source": [
    "YEAR = 2021"
   ]
  },
  {
   "cell_type": "code",
   "execution_count": 5,
   "id": "277edced-1f6e-4fc2-ba78-58ade2f7f619",
   "metadata": {},
   "outputs": [],
   "source": [
    "with open(f'M{MODEL}.pickle', 'rb') as f:\n",
    "    obj = pickle.load(f)"
   ]
  },
  {
   "cell_type": "code",
   "execution_count": 6,
   "id": "a0d37788-153c-40f2-b6ff-6da513e4e3ef",
   "metadata": {},
   "outputs": [],
   "source": [
    "lm = obj[0]\n",
    "selected_features = obj[1]\n",
    "choice = obj[2]"
   ]
  },
  {
   "cell_type": "markdown",
   "id": "30e558db-b0f2-417c-8b15-6db3be446c72",
   "metadata": {},
   "source": [
    "**2. Prepare Data**"
   ]
  },
  {
   "cell_type": "code",
   "execution_count": 7,
   "id": "29d12847-4de5-4832-a383-52994835cc56",
   "metadata": {},
   "outputs": [],
   "source": [
    "# Function to scrape and manipulate data to be inserted here"
   ]
  },
  {
   "cell_type": "code",
   "execution_count": 8,
   "id": "c4c9c1bc-aa2a-4a4f-befe-90d5888dfc9a",
   "metadata": {},
   "outputs": [],
   "source": [
    "filelist = os.listdir(f'../Data/{choice}')[1:]\n",
    "filelist.sort()\n",
    "filelist = filelist[1:]\n",
    "\n",
    "final_test_games = [file for file in filelist if f'{YEAR}' in file]"
   ]
  },
  {
   "cell_type": "markdown",
   "id": "8077aab8-96ae-4854-aafd-112489c443c7",
   "metadata": {},
   "source": [
    "**3. Run Predictions**"
   ]
  },
  {
   "cell_type": "code",
   "execution_count": 9,
   "id": "1aa063bd-7aaa-43c0-a780-b0aed2cd7706",
   "metadata": {},
   "outputs": [],
   "source": [
    "def wholeseason(final_test_games, lm, selected_features, choice):\n",
    "    \"\"\" Helper function for running emperical test - returns tuple of leaderboard of players for the season (with votes) \"\"\"\n",
    "    \n",
    "    roundByRound = pd.DataFrame({'Game': list(), 'Three': list(), 'Two': list(), 'One': list()})\n",
    "    \n",
    "    players = dd(int) # tally\n",
    "    \n",
    "    for file in final_test_games:\n",
    "        \n",
    "        # Open each final test season's game\n",
    "        df = pd.read_csv(f'../Data/{choice}/{file}')\n",
    "        \n",
    "        # Run predictions\n",
    "        x_final = df[selected_features].replace((np.inf, -np.inf, np.nan), 0).reset_index(drop=True)\n",
    "        y_pred = lm.predict(x_final)\n",
    "        \n",
    "        # Find top 3 scoring players of the game\n",
    "        enumerated = [(i, score) for i, score in enumerate(y_pred)]\n",
    "        enumerated.sort(key = lambda x:x[1], reverse = True)\n",
    "        \n",
    "        \n",
    "        # Find their (top 3 players) names and insert them into the tally by adding 3 votes, 2 votes and 1 vote respectively\n",
    "        for j in range(3):\n",
    "            players[df.loc[enumerated[j][0]]['Player']] += (3-j)\n",
    "        \n",
    "        # Also record the votes by game\n",
    "        tmp = pd.DataFrame({'Game': [file.strip(f' ({choiceDict[choice]})')], 'Three': [df.loc[enumerated[0][0]]['Player']], \n",
    "                            'Two': [df.loc[enumerated[1][0]]['Player']], 'One': [df.loc[enumerated[2][0]]['Player']]})\n",
    "        \n",
    "        roundByRound = pd.concat([roundByRound, tmp])\n",
    "    \n",
    "    # Sort the leaderboard so top pollers are ranked first\n",
    "    leaderboard = sorted(list(players.items()), reverse = True, key = lambda x:x[1])\n",
    "    \n",
    "    return leaderboard, roundByRound"
   ]
  },
  {
   "cell_type": "code",
   "execution_count": 10,
   "id": "a87b9074-e8ea-4261-b6bb-4f420ae25fa9",
   "metadata": {},
   "outputs": [],
   "source": [
    "leaderboard, roundByRound = wholeseason(final_test_games, lm, selected_features, choice)"
   ]
  },
  {
   "cell_type": "markdown",
   "id": "85ef4a7e-cc53-403b-aa80-457dedc3d3d6",
   "metadata": {},
   "source": [
    "**4. Output predictions to CSV**"
   ]
  },
  {
   "cell_type": "code",
   "execution_count": 11,
   "id": "96b38d81-82dd-4dd0-825d-0c3421596d4e",
   "metadata": {},
   "outputs": [
    {
     "data": {
      "text/plain": [
       "[('Jack Steele', 39),\n",
       " ('Oliver Wines', 34),\n",
       " ('Clayton Oliver', 29),\n",
       " ('Marcus Bontempelli', 29),\n",
       " ('Christian Petracca', 28),\n",
       " ('Darcy Parish', 28),\n",
       " ('Jarryd Lyons', 26),\n",
       " ('Luke Parker', 24),\n",
       " ('Jackson Macrae', 21),\n",
       " ('Rory Laird', 21),\n",
       " ('Tom Mitchell', 20),\n",
       " ('Travis Boak', 20),\n",
       " ('Touk Miller', 19),\n",
       " ('Sam Walsh', 18),\n",
       " ('Jake Stringer', 18)]"
      ]
     },
     "execution_count": 11,
     "metadata": {},
     "output_type": "execute_result"
    }
   ],
   "source": [
    "leaderboard[0:15]"
   ]
  },
  {
   "cell_type": "code",
   "execution_count": 12,
   "id": "307732b8-8fd0-4e69-b358-7d7da1cbdc24",
   "metadata": {},
   "outputs": [],
   "source": [
    "names = [x[0] for x in leaderboard]\n",
    "votes = [x[1] for x in leaderboard]\n",
    "leaderboarddf = pd.DataFrame({'Player': names, 'Votes': votes})\n",
    "\n",
    "leaderboarddf.to_csv(f'./Predictions/M{MODEL} {YEAR} leaderboard.csv', index = False)"
   ]
  },
  {
   "cell_type": "code",
   "execution_count": 13,
   "id": "d5f0d5ee-599e-40b7-8d03-c1186b2a9b5e",
   "metadata": {},
   "outputs": [],
   "source": [
    "roundByRound.to_csv(f'./Predictions/M{MODEL} {YEAR} roundByRound.csv', index = False)"
   ]
  }
 ],
 "metadata": {
  "kernelspec": {
   "display_name": "Python 3 (ipykernel)",
   "language": "python",
   "name": "python3"
  },
  "language_info": {
   "codemirror_mode": {
    "name": "ipython",
    "version": 3
   },
   "file_extension": ".py",
   "mimetype": "text/x-python",
   "name": "python",
   "nbconvert_exporter": "python",
   "pygments_lexer": "ipython3",
   "version": "3.9.7"
  }
 },
 "nbformat": 4,
 "nbformat_minor": 5
}
