{
 "cells": [
  {
   "cell_type": "markdown",
   "metadata": {},
   "source": [
    "# 4. Manipulates Raw Statistics into Multiple Forms #\n",
    "## For Brownlow Predictor Project ##\n",
    "\n",
    "Turns raw counts of game/player stats into\n",
    "- [x] Standardised\n",
    "- [x] Normalised\n",
    "- [x] Rank followed by Standardisation\n",
    "- [x] Percentages\n",
    "- [ ] Percentages followed by Standardisation       *[since proven to be exactly same as Standardisation]*\n",
    "- [x] Percentages followed by Normalisation\n",
    "\n",
    "*In order for different statistics to be used together for predictive purposes an important step is to manipulate them into a form which they are 'equal'. There are many ways to do so, and the author wanted to use different manipulations of data to see which gave the best results in terms of prediction. Also wanted to test in general the effectiveness of each data manipulation format*\n",
    "\n",
    "***Author: `Lang (Ron) Chen` 2021.12-2022.1**\n",
    "\n",
    "---"
   ]
  },
  {
   "cell_type": "markdown",
   "metadata": {},
   "source": [
    "*Note: As Percentages followed by Standardisation was proven to be exactly the same as Standardisation, all relevent code have bben commented out* "
   ]
  },
  {
   "cell_type": "markdown",
   "metadata": {},
   "source": [
    "**0. Import Libraries**"
   ]
  },
  {
   "cell_type": "code",
   "execution_count": 1,
   "metadata": {},
   "outputs": [],
   "source": [
    "import pandas as pd\n",
    "import os"
   ]
  },
  {
   "cell_type": "code",
   "execution_count": 2,
   "metadata": {},
   "outputs": [],
   "source": [
    "choice = 'OriginalData'"
   ]
  },
  {
   "cell_type": "markdown",
   "metadata": {},
   "source": [
    "**1. Writing the functions for standardisation**"
   ]
  },
  {
   "cell_type": "markdown",
   "metadata": {},
   "source": [
    "The reason that each method of manipulation contains 4 functions (except for percentage) is because of the existance of negative stats in which the scores should be reversed (i.e. turnovers, frees against). \n",
    "\n",
    "- BT means both teams - manipulates the data with respects to all players on ground\n",
    "- OT means own teams - manipulates the data with respect to only teammates\n",
    "- inv means inverse - the scores would be ranked in reverse (according to what is 'reverse' for that particular manipulated method)\n",
    "\n",
    "'Normalisation followed by Standardisation' or vice versa were initially also planned to be used, before an experiment showed that the former is equal to 'Standardisation' whilst the latter is exactly equal to 'Normalisation'."
   ]
  },
  {
   "cell_type": "markdown",
   "metadata": {},
   "source": [
    "1. Standardisation"
   ]
  },
  {
   "cell_type": "code",
   "execution_count": 3,
   "metadata": {},
   "outputs": [],
   "source": [
    "def std_BT(col):\n",
    "    \"\"\" Takes in input of a dataframe column \"\"\"\n",
    "    \n",
    "    game_max = col.max()\n",
    "    game_min = col.min()\n",
    "    \n",
    "    return (col-game_min)/(game_max-game_min)"
   ]
  },
  {
   "cell_type": "code",
   "execution_count": 4,
   "metadata": {},
   "outputs": [],
   "source": [
    "def std_BT_inv(col):\n",
    "    \"\"\" Takes in input of a dataframe column \"\"\"\n",
    "    \n",
    "    game_max = col.max()\n",
    "    game_min = col.min()\n",
    "    \n",
    "    return 1- (col-game_min)/(game_max-game_min)"
   ]
  },
  {
   "cell_type": "code",
   "execution_count": 5,
   "metadata": {},
   "outputs": [],
   "source": [
    "def std_OT(df, colname):\n",
    "    \"\"\" Takes in two inputs: the first a dataframe with two columns: the stat column and the HomeAway column; the second a string which is the column name of the stat column \"\"\"\n",
    "    \n",
    "    tmp1 = df[df['HomeAway'] == 'Home']\n",
    "    tmp2 = df[df['HomeAway'] == 'Away']\n",
    "    \n",
    "    t1_max = tmp1[colname].max()\n",
    "    t1_min = tmp1[colname].min()\n",
    "    t2_max = tmp2[colname].max()\n",
    "    t2_min = tmp2[colname].min()\n",
    "    \n",
    "    out1 = pd.DataFrame(((tmp1[colname]-t1_min)/(t1_max-t1_min)))\n",
    "    out2 = pd.DataFrame(((tmp2[colname]-t2_min)/(t2_max-t2_min)))\n",
    "    out = out1.append(out2)\n",
    "    \n",
    "    return out"
   ]
  },
  {
   "cell_type": "code",
   "execution_count": 6,
   "metadata": {},
   "outputs": [],
   "source": [
    "def std_OT_inv(df, colname):\n",
    "    \"\"\" Takes in two inputs: the first a dataframe with two columns: the stat column and the HomeAway column; the second a string which is the column name of the stat column \"\"\"\n",
    "    \n",
    "    tmp1 = df[df['HomeAway'] == 'Home']\n",
    "    tmp2 = df[df['HomeAway'] == 'Away']\n",
    "    \n",
    "    t1_max = tmp1[colname].max()\n",
    "    t1_min = tmp1[colname].min()\n",
    "    t2_max = tmp2[colname].max()\n",
    "    t2_min = tmp2[colname].min()\n",
    "    \n",
    "    out1 = pd.DataFrame(1-((tmp1[colname]-t1_min)/(t1_max-t1_min)))\n",
    "    out2 = pd.DataFrame(1-((tmp2[colname]-t2_min)/(t2_max-t2_min)))\n",
    "    out = out1.append(out2)\n",
    "    \n",
    "    return out"
   ]
  },
  {
   "cell_type": "markdown",
   "metadata": {},
   "source": [
    "2. Normalisation"
   ]
  },
  {
   "cell_type": "code",
   "execution_count": 7,
   "metadata": {},
   "outputs": [],
   "source": [
    "def norm_BT(col):\n",
    "    \"\"\" Takes in input of a dataframe column \"\"\"\n",
    "    \n",
    "    game_mean = col.mean()\n",
    "    game_std = col.std()\n",
    "    \n",
    "    return (col-game_mean)/game_std"
   ]
  },
  {
   "cell_type": "code",
   "execution_count": 8,
   "metadata": {},
   "outputs": [],
   "source": [
    "def norm_BT_inv(col):\n",
    "    \"\"\" Takes in input of a dataframe column \"\"\"\n",
    "    \n",
    "    game_mean = col.mean()\n",
    "    game_std = col.std()\n",
    "    \n",
    "    return -1 * (col-game_mean)/game_std"
   ]
  },
  {
   "cell_type": "code",
   "execution_count": 9,
   "metadata": {},
   "outputs": [],
   "source": [
    "def norm_OT(df, colname):\n",
    "    \"\"\" Takes in two inputs: the first a dataframe with two columns: the stat column and the HomeAway column; the second a string which is the column name of the stat column \"\"\"\n",
    "    \n",
    "    tmp1 = df[df['HomeAway'] == 'Home']\n",
    "    tmp2 = df[df['HomeAway'] == 'Away']\n",
    "    \n",
    "    t1_mean = tmp1[colname].mean()\n",
    "    t1_std = tmp1[colname].std()\n",
    "    t2_mean = tmp2[colname].mean()\n",
    "    t2_std = tmp2[colname].std()\n",
    "    \n",
    "    out1 = pd.DataFrame(((tmp1[colname]-t1_mean)/t1_std))\n",
    "    out2 = pd.DataFrame(((tmp2[colname]-t2_mean)/t2_std))\n",
    "    out = out1.append(out2)\n",
    "    \n",
    "    return out"
   ]
  },
  {
   "cell_type": "code",
   "execution_count": 10,
   "metadata": {},
   "outputs": [],
   "source": [
    "def norm_OT_inv(df, colname):\n",
    "    \"\"\" Takes in two inputs: the first a dataframe with two columns: the stat column and the HomeAway column; the second a string which is the column name of the stat column \"\"\"\n",
    "    \n",
    "    tmp1 = df[df['HomeAway'] == 'Home']\n",
    "    tmp2 = df[df['HomeAway'] == 'Away']\n",
    "    \n",
    "    t1_mean = tmp1[colname].mean()\n",
    "    t1_std = tmp1[colname].std()\n",
    "    t2_mean = tmp2[colname].mean()\n",
    "    t2_std = tmp2[colname].std()\n",
    "    \n",
    "    out1 = pd.DataFrame((-1*(tmp1[colname]-t1_mean)/t1_std))\n",
    "    out2 = pd.DataFrame((-1*(tmp2[colname]-t2_mean)/t2_std))\n",
    "    out = out1.append(out2)\n",
    "    \n",
    "    return out"
   ]
  },
  {
   "cell_type": "markdown",
   "metadata": {},
   "source": [
    "3. Rank followed by Standardisation"
   ]
  },
  {
   "cell_type": "code",
   "execution_count": 11,
   "metadata": {},
   "outputs": [],
   "source": [
    "def rank_std_BT(col):\n",
    "    \"\"\" Takes in input of a dataframe column \"\"\"\n",
    "    \n",
    "    tmp = [0 for i in range(len(col))]\n",
    "    \n",
    "    data = list(col)\n",
    "    data_items = [(i, stat) for i, stat in enumerate(data)]\n",
    "    \n",
    "    data_items.sort(key = lambda x:x[1])\n",
    "    \n",
    "    switch = False\n",
    "    for i in range(len(data_items)):\n",
    "        if i+1 < len(data_items):\n",
    "            if data_items[i][1] == data_items[i+1][1] and switch:\n",
    "                switch = True\n",
    "                start = i\n",
    "\n",
    "            elif switch:\n",
    "                switch = False\n",
    "\n",
    "                val = (start+i)/2\n",
    "                for j in range(start, i+1):\n",
    "                    tmp[data_items[j][0]] = val + 1\n",
    "\n",
    "            else:\n",
    "                tmp[data_items[i][0]] = i + 1\n",
    "        \n",
    "        else:\n",
    "            if switch:\n",
    "\n",
    "                val = (start+i)/2\n",
    "                for j in range(start, i+1):\n",
    "                    tmp[data_items[j][0]] = val + 1\n",
    "\n",
    "            else:\n",
    "                tmp[data_items[i][0]] = i + 1\n",
    "    \n",
    "    tmp_max = max(tmp)\n",
    "    tmp_min = min(tmp)\n",
    "    out = [((tmp[i]-tmp_min)/(tmp_max-tmp_min)) for i in range(len(tmp))]\n",
    "    \n",
    "    \n",
    "    return pd.DataFrame({'tmp': out})"
   ]
  },
  {
   "cell_type": "code",
   "execution_count": 12,
   "metadata": {},
   "outputs": [],
   "source": [
    "def rank_std_BT_inv(col):\n",
    "    \"\"\" Takes in input of a dataframe column \"\"\"\n",
    "    \n",
    "    tmp = [0 for i in range(len(col))]\n",
    "    \n",
    "    data = list(col)\n",
    "    data_items = [(i, stat) for i, stat in enumerate(data)]\n",
    "    \n",
    "    data_items.sort(key = lambda x:x[1], reverse = True)\n",
    "    \n",
    "    switch = False\n",
    "    for i in range(len(data_items)):\n",
    "        if i+1 < len(data_items):\n",
    "            if data_items[i][1] == data_items[i+1][1] and switch:\n",
    "                switch = True\n",
    "                start = i\n",
    "\n",
    "            elif switch:\n",
    "                switch = False\n",
    "\n",
    "                val = (start+i)/2\n",
    "                for j in range(start, i+1):\n",
    "                    tmp[data_items[j][0]] = val + 1\n",
    "\n",
    "            else:\n",
    "                tmp[data_items[i][0]] = i + 1\n",
    "        \n",
    "        else:\n",
    "            if switch:\n",
    "\n",
    "                val = (start+i)/2\n",
    "                for j in range(start, i+1):\n",
    "                    tmp[data_items[j][0]] = val + 1\n",
    "\n",
    "            else:\n",
    "                tmp[data_items[i][0]] = i + 1\n",
    "    \n",
    "    tmp_max = max(tmp)\n",
    "    tmp_min = min(tmp)\n",
    "    out = [((tmp[i]-tmp_min)/(tmp_max-tmp_min)) for i in range(len(tmp))]\n",
    "    \n",
    "    \n",
    "    return pd.DataFrame({'tmp': out})"
   ]
  },
  {
   "cell_type": "code",
   "execution_count": 13,
   "metadata": {},
   "outputs": [],
   "source": [
    "def rank_std_OT(df, colname):\n",
    "    \"\"\" Takes in two inputs: the first a dataframe with two columns: the stat column and the HomeAway column; the second a string which is the column name of the stat column \"\"\"\n",
    "    \n",
    "    tmp1 = df[df['HomeAway'] == 'Home']\n",
    "    tmp2 = df[df['HomeAway'] == 'Away']\n",
    "    \n",
    "    out1 = rank_std_BT(tmp1[colname])\n",
    "    out2 = rank_std_BT(tmp2[colname])\n",
    "    \n",
    "    out = out1.append(out2)\n",
    "    out.index = list(range(len(out)))\n",
    "    \n",
    "    return out"
   ]
  },
  {
   "cell_type": "code",
   "execution_count": 14,
   "metadata": {},
   "outputs": [],
   "source": [
    "def rank_std_OT_inv(df, colname):\n",
    "    \"\"\" Takes in two inputs: the first a dataframe with two columns: the stat column and the HomeAway column; the second a string which is the column name of the stat column \"\"\"\n",
    "    \n",
    "    tmp1 = df[df['HomeAway'] == 'Home']\n",
    "    tmp2 = df[df['HomeAway'] == 'Away']\n",
    "    \n",
    "    out1 = rank_std_BT_inv(tmp1[colname])\n",
    "    out2 = rank_std_BT_inv(tmp2[colname])\n",
    "    \n",
    "    out = out1.append(out2)\n",
    "    out.index = list(range(len(out)))\n",
    "    \n",
    "    return out"
   ]
  },
  {
   "cell_type": "markdown",
   "metadata": {},
   "source": [
    "4. Percentage"
   ]
  },
  {
   "cell_type": "code",
   "execution_count": 15,
   "metadata": {},
   "outputs": [],
   "source": [
    "def per_BT(col):\n",
    "    \"\"\" Takes in input of a dataframe column \"\"\"\n",
    "    \n",
    "    game_sum = col.sum()\n",
    "    \n",
    "    return col/game_sum"
   ]
  },
  {
   "cell_type": "code",
   "execution_count": 16,
   "metadata": {},
   "outputs": [],
   "source": [
    "def per_OT(df, colname):\n",
    "    \"\"\" Takes in input of a dataframe column \"\"\"\n",
    "    \n",
    "    tmp1 = df[df['HomeAway'] == 'Home']\n",
    "    tmp2 = df[df['HomeAway'] == 'Away']\n",
    "    \n",
    "    t1_sum = tmp1[colname].sum()\n",
    "    t2_sum = tmp2[colname].sum()\n",
    "    \n",
    "    out1 = pd.DataFrame(((tmp1[colname]/t1_sum)))\n",
    "    out2 = pd.DataFrame(((tmp2[colname]/t2_sum)))\n",
    "    out = out1.append(out2)\n",
    "    \n",
    "    return out"
   ]
  },
  {
   "cell_type": "markdown",
   "metadata": {},
   "source": [
    "5. Percentage followed by Standardisation"
   ]
  },
  {
   "cell_type": "code",
   "execution_count": 17,
   "metadata": {},
   "outputs": [],
   "source": [
    "# def per_std_BT(col):\n",
    "#     \"\"\" Takes in input of a dataframe column \"\"\"\n",
    "    \n",
    "#     game_sum = col.sum()\n",
    "    \n",
    "#     tmp = col/game_sum\n",
    "    \n",
    "#     tmp_max = tmp.max()\n",
    "#     tmp_min = tmp.min()\n",
    "    \n",
    "#     return (tmp-tmp_min)/(tmp_max-tmp_min)"
   ]
  },
  {
   "cell_type": "code",
   "execution_count": 18,
   "metadata": {},
   "outputs": [],
   "source": [
    "# def per_std_BT_inv(col):\n",
    "#     \"\"\" Takes in input of a dataframe column \"\"\"\n",
    "    \n",
    "#     game_sum = col.sum()\n",
    "    \n",
    "#     tmp = col/game_sum\n",
    "    \n",
    "#     tmp_max = tmp.max()\n",
    "#     tmp_min = tmp.min()\n",
    "    \n",
    "#     return 1 - (tmp-tmp_min)/(tmp_max-tmp_min)"
   ]
  },
  {
   "cell_type": "code",
   "execution_count": 19,
   "metadata": {},
   "outputs": [],
   "source": [
    "# def per_std_OT(df, colname):\n",
    "#     \"\"\" Takes in two inputs: the first a dataframe with two columns: the stat column and the HomeAway column; the second a string which is the column name of the stat column \"\"\"\n",
    "    \n",
    "#     tmp1 = df[df['HomeAway'] == 'Home']\n",
    "#     tmp2 = df[df['HomeAway'] == 'Away']\n",
    "    \n",
    "#     t1_sum = tmp1[colname].sum()\n",
    "#     t2_sum = tmp2[colname].sum()\n",
    "    \n",
    "#     tmp1 = pd.DataFrame(((tmp1[colname]/t1_sum)))\n",
    "#     tmp2 = pd.DataFrame(((tmp2[colname]/t2_sum)))\n",
    "\n",
    "#     t1_max = tmp1[colname].max()\n",
    "#     t1_min = tmp1[colname].min()\n",
    "#     t2_max = tmp2[colname].max()\n",
    "#     t2_min = tmp2[colname].min()\n",
    "    \n",
    "#     out1 = pd.DataFrame(((tmp1[colname]-t1_min)/(t1_max-t1_min)))\n",
    "#     out2 = pd.DataFrame(((tmp2[colname]-t2_min)/(t2_max-t2_min)))\n",
    "#     out = out1.append(out2)\n",
    "    \n",
    "#     return out"
   ]
  },
  {
   "cell_type": "code",
   "execution_count": 20,
   "metadata": {},
   "outputs": [],
   "source": [
    "# def per_std_OT_inv(df, colname):\n",
    "#     \"\"\" Takes in two inputs: the first a dataframe with two columns: the stat column and the HomeAway column; the second a string which is the column name of the stat column \"\"\"\n",
    "    \n",
    "#     tmp1 = df[df['HomeAway'] == 'Home']\n",
    "#     tmp2 = df[df['HomeAway'] == 'Away']\n",
    "    \n",
    "#     t1_sum = tmp1[colname].sum()\n",
    "#     t2_sum = tmp2[colname].sum()\n",
    "    \n",
    "#     tmp1 = pd.DataFrame(((tmp1[colname]/t1_sum)))\n",
    "#     tmp2 = pd.DataFrame(((tmp2[colname]/t2_sum)))\n",
    "\n",
    "#     t1_max = tmp1[colname].max()\n",
    "#     t1_min = tmp1[colname].min()\n",
    "#     t2_max = tmp2[colname].max()\n",
    "#     t2_min = tmp2[colname].min()\n",
    "    \n",
    "#     out1 = pd.DataFrame(1-((tmp1[colname]-t1_min)/(t1_max-t1_min)))\n",
    "#     out2 = pd.DataFrame(1-((tmp2[colname]-t2_min)/(t2_max-t2_min)))\n",
    "#     out = out1.append(out2)\n",
    "    \n",
    "#     return out"
   ]
  },
  {
   "cell_type": "markdown",
   "metadata": {},
   "source": [
    "6. Percentage followed by Normalisation"
   ]
  },
  {
   "cell_type": "code",
   "execution_count": 21,
   "metadata": {},
   "outputs": [],
   "source": [
    "# def per_norm_BT(col):\n",
    "#     \"\"\" Takes in input of a dataframe column \"\"\"\n",
    "    \n",
    "#     game_sum = col.sum()\n",
    "    \n",
    "#     tmp = col/game_sum\n",
    "    \n",
    "#     tmp_mean = tmp.mean()\n",
    "#     tmp_std = tmp.std()\n",
    "    \n",
    "#     return (tmp-tmp_mean)/(tmp_std)"
   ]
  },
  {
   "cell_type": "code",
   "execution_count": 22,
   "metadata": {},
   "outputs": [],
   "source": [
    "# def per_norm_BT_inv(col):\n",
    "#     \"\"\" Takes in input of a dataframe column \"\"\"\n",
    "    \n",
    "#     game_sum = col.sum()\n",
    "    \n",
    "#     tmp = col/game_sum\n",
    "    \n",
    "#     tmp_mean = tmp.mean()\n",
    "#     tmp_std = tmp.std()\n",
    "    \n",
    "#     return -1 * (tmp-tmp_mean)/(tmp_std)"
   ]
  },
  {
   "cell_type": "code",
   "execution_count": 23,
   "metadata": {},
   "outputs": [],
   "source": [
    "# def per_norm_OT(df, colname):\n",
    "#     \"\"\" Takes in two inputs: the first a dataframe with two columns: the stat column and the HomeAway column; the second a string which is the column name of the stat column \"\"\"\n",
    "    \n",
    "#     tmp1 = df[df['HomeAway'] == 'Home']\n",
    "#     tmp2 = df[df['HomeAway'] == 'Away']\n",
    "    \n",
    "#     t1_sum = tmp1[colname].sum()\n",
    "#     t2_sum = tmp2[colname].sum()\n",
    "    \n",
    "#     tmp1 = pd.DataFrame(((tmp1[colname]/t1_sum)))\n",
    "#     tmp2 = pd.DataFrame(((tmp2[colname]-t2_sum)))\n",
    "\n",
    "#     t1_mean = tmp1[colname].mean()\n",
    "#     t1_std = tmp1[colname].std()\n",
    "#     t2_mean = tmp2[colname].mean()\n",
    "#     t2_std = tmp2[colname].std()\n",
    "    \n",
    "#     out1 = pd.DataFrame(((tmp1[colname]-t1_mean)/(t1_std)))\n",
    "#     out2 = pd.DataFrame(((tmp2[colname]-t2_mean)/(t2_std)))\n",
    "#     out = out1.append(out2)\n",
    "    \n",
    "#     return out"
   ]
  },
  {
   "cell_type": "code",
   "execution_count": 24,
   "metadata": {},
   "outputs": [],
   "source": [
    "# def per_norm_OT_inv(df, colname):\n",
    "#     \"\"\" Takes in two inputs: the first a dataframe with two columns: the stat column and the HomeAway column; the second a string which is the column name of the stat column \"\"\"\n",
    "    \n",
    "#     tmp1 = df[df['HomeAway'] == 'Home']\n",
    "#     tmp2 = df[df['HomeAway'] == 'Away']\n",
    "    \n",
    "#     t1_sum = tmp1[colname].sum()\n",
    "#     t2_sum = tmp2[colname].sum()\n",
    "    \n",
    "#     tmp1 = pd.DataFrame(((tmp1[colname]/t1_sum)))\n",
    "#     tmp2 = pd.DataFrame(((tmp2[colname]-t2_sum)))\n",
    "\n",
    "#     t1_mean = tmp1[colname].mean()\n",
    "#     t1_std = tmp1[colname].std()\n",
    "#     t2_mean = tmp2[colname].mean()\n",
    "#     t2_std = tmp2[colname].std()\n",
    "    \n",
    "#     out1 = pd.DataFrame(-1*((tmp1[colname]-t1_mean)/(t1_std)))\n",
    "#     out2 = pd.DataFrame(-1*((tmp2[colname]-t2_mean)/(t2_std)))\n",
    "#     out = out1.append(out2)\n",
    "    \n",
    "#     return out"
   ]
  },
  {
   "cell_type": "markdown",
   "metadata": {},
   "source": [
    "**2. Running functions on every file**"
   ]
  },
  {
   "cell_type": "code",
   "execution_count": 30,
   "metadata": {},
   "outputs": [],
   "source": [
    "filelist = os.listdir(f'./Data/OriginalData_AddDerived')\n",
    "filelist.sort()\n",
    "filelist = filelist[1:]\n",
    "\n",
    "# Remove the first file (an ipynb checkpoint file)"
   ]
  },
  {
   "cell_type": "code",
   "execution_count": 26,
   "metadata": {},
   "outputs": [],
   "source": [
    "# First make dictionaries which direct the flow of control as to whether a column shoul receive manipulation and whether it should be positive or inversed direction.\n",
    "\n",
    "# Unchanged\n",
    "Orig = ['Player', 'Winloss', 'Brownlow Votes', 'HomeAway']\n",
    "\n",
    "# Normal manipulation \n",
    "normal = ['Kicks', 'Handballs', 'Disposals', 'Marks', 'Goals', 'Behinds', 'Tackles', 'Hitouts', 'Goal Assists', 'Inside 50s', \n",
    "               'Clearances', 'Rebound 50s', 'Frees For', 'Contested Possessions', 'Uncontested Possessions', \n",
    "               'Effective Disposals', 'Contested Marks', 'Marks Inside 50', 'One Percenters', 'Bounces', 'Centre Clearances', \n",
    "               'Stoppage Clearances', 'Score Involvements', 'Metres Gained', 'Intercepts', 'Tackles Inside 50', 'Time On Ground %', 'Uncontested Marks',\n",
    "               'Marks Outside 50', 'Tackles Outside 50', 'Behind Assists', 'Effective Disposals', 'Ineffective Disposals']\n",
    "\n",
    "# Inversed manipulation\n",
    "invert = ['Clangers', 'Turnovers', 'Frees Agains']"
   ]
  },
  {
   "cell_type": "code",
   "execution_count": 32,
   "metadata": {},
   "outputs": [
    {
     "name": "stdout",
     "output_type": "stream",
     "text": [
      "CPU times: user 2 µs, sys: 1e+03 ns, total: 3 µs\n",
      "Wall time: 5.25 µs\n"
     ]
    }
   ],
   "source": [
    "%time\n",
    "\n",
    "for file in filelist:\n",
    "    \n",
    "    df = pd.read_csv(f'./Data/OriginalData_AddDerived/{file}')\n",
    "    \n",
    "    \n",
    "    std = pd.DataFrame()\n",
    "    \n",
    "    norm = pd.DataFrame()\n",
    "    \n",
    "    # norm_std = pd.DataFrame()\n",
    "    \n",
    "    rank_std = pd.DataFrame()\n",
    "    \n",
    "    # per = pd.DataFrame()\n",
    "    \n",
    "#     per_std = pd.DataFrame()\n",
    "    \n",
    "    # per_norm = pd.DataFrame()\n",
    "    \n",
    "    \n",
    "    for column in df.columns:\n",
    "        \n",
    "        if column in Orig:\n",
    "            std[column] = list(df[column])\n",
    "            \n",
    "            # norm[column] = list(df[column])\n",
    "            \n",
    "            # norm_std[column] = list(df[column])\n",
    "            \n",
    "            rank_std[column] = list(df[column])\n",
    "            \n",
    "            # per[column] = list(df[column])\n",
    "            \n",
    "#             per_std[column] = list(df[column])\n",
    "            \n",
    "            # per_norm[column] = list(df[column])\n",
    "            \n",
    "\n",
    "        elif column in normal:\n",
    "            std[f'{column} BTS'] = std_BT(df[column])\n",
    "            std[f'{column} OTS'] = std_OT(df[[column, 'HomeAway']], column)\n",
    "            \n",
    "            # norm[f'{column} BTN'] = norm_BT(df[column])\n",
    "            # norm[f'{column} OTN'] = norm_OT(df[[column, 'HomeAway']], column)\n",
    "            \n",
    "            # norm_std[f'{column} BTNS'] = norm_std_BT(df[column])\n",
    "            # norm_std[f'{column} OTNS'] = norm_std_OT(df[[column, 'HomeAway']], column)\n",
    "            \n",
    "            rank_std[f'{column} BTRS'] = rank_std_BT(df[column])\n",
    "            rank_std[f'{column} OTRS'] = rank_std_OT(df[[column, 'HomeAway']], column)\n",
    "            \n",
    "            # per[f'{column} BTP'] = per_BT(df[column])\n",
    "            # per[f'{column} OTP'] = per_OT(df[[column, 'HomeAway']], column)\n",
    "            \n",
    "#             per_std[f'{column} BTPS'] = per_std_BT(df[column])\n",
    "#             per_std[f'{column} OTPS'] = per_std_OT(df[[column, 'HomeAway']], column)\n",
    "            \n",
    "            # per_norm[f'{column} BTPN'] = per_norm_BT(df[column])\n",
    "            # per_norm[f'{column} OTPN'] = per_norm_OT(df[[column, 'HomeAway']], column)\n",
    "            \n",
    "            \n",
    "        elif column in invert:\n",
    "            std[f'{column} BTS'] = std_BT_inv(df[column])\n",
    "            std[f'{column} OTS'] = std_OT_inv(df[[column, 'HomeAway']], column)\n",
    "            \n",
    "            # norm[f'{column} BTN'] = norm_BT_inv(df[column])\n",
    "            # norm[f'{column} OTN'] = norm_OT_inv(df[[column, 'HomeAway']], column)\n",
    "            \n",
    "            # norm_std[f'{column} BTNS'] = norm_std_BT_inv(df[column])\n",
    "            # norm_std[f'{column} OTNS'] = norm_std_OT_inv(df[[column, 'HomeAway']], column)\n",
    "            \n",
    "            rank_std[f'{column} BTRS'] = rank_std_BT_inv(df[column])\n",
    "            rank_std[f'{column} OTRS'] = rank_std_OT_inv(df[[column, 'HomeAway']], column)\n",
    "            \n",
    "            # per[f'{column} BTP'] = per_BT(df[column])\n",
    "            # per[f'{column} OTP'] = per_OT(df[[column, 'HomeAway']], column)\n",
    "            \n",
    "#             per_std[f'{column} BTPS'] = per_std_BT_inv(df[column])\n",
    "#             per_std[f'{column} OTPS'] = per_std_OT_inv(df[[column, 'HomeAway']], column)\n",
    "            \n",
    "            # per_norm[f'{column} BTPN'] = per_norm_BT_inv(df[column])\n",
    "            # per_norm[f'{column} OTPN'] = per_norm_OT_inv(df[[column, 'HomeAway']], column)\n",
    "        \n",
    "        \n",
    "        else:\n",
    "            # Error mechanism\n",
    "            print(column)\n",
    "    \n",
    "    \n",
    "    std.to_csv(f'./Data/StandardisedData/{file.strip(\"(O).csv\")} (S).csv', index=False)\n",
    "    \n",
    "    # norm.to_csv(f'./Data/NormalisedData/{file.strip(\"(O).csv\")} (N).csv', index=False)\n",
    "    \n",
    "    # norm_std.to_csv(f'./Data/NormalisedStandardisedData/{file.strip(\"(O).csv\")} (NS).csv', index=False)\n",
    "    \n",
    "    rank_std.to_csv(f'./Data/RankStandardisedData/{file.strip(\"(O).csv\")} (RS).csv', index=False)\n",
    "    \n",
    "    # per.to_csv(f'./Data/PercentageData/{file.strip(\"(O).csv\")} (P).csv', index=False)\n",
    "    \n",
    "#     per_std.to_csv(f'./Data/PercentageStandardisedData/{file.strip(\"(O).csv\")} (PS).csv', index=False)\n",
    "    \n",
    "    # per_norm.to_csv(f'./Data/PercentageNormalisedData/{file.strip(\"(O).csv\")} (PN).csv', index=False)\n",
    "    "
   ]
  },
  {
   "cell_type": "markdown",
   "metadata": {},
   "source": [
    "## Note: A few improvements could be made on this notebook: ##\n",
    "\n",
    "*1. the Rank manipulation process is mostly done using Python built-in types. This may cause the process to be rather slow. May be faster if a Pandas built in function could be used to achieve the same means*"
   ]
  }
 ],
 "metadata": {
  "kernelspec": {
   "display_name": "Python 3.9.7 ('base')",
   "language": "python",
   "name": "python3"
  },
  "language_info": {
   "codemirror_mode": {
    "name": "ipython",
    "version": 3
   },
   "file_extension": ".py",
   "mimetype": "text/x-python",
   "name": "python",
   "nbconvert_exporter": "python",
   "pygments_lexer": "ipython3",
   "version": "3.9.7"
  },
  "vscode": {
   "interpreter": {
    "hash": "cd78fef2128015050713e82ca51c6520b11aee7c9ee8df750520bbbc7384cbaa"
   }
  }
 },
 "nbformat": 4,
 "nbformat_minor": 4
}
