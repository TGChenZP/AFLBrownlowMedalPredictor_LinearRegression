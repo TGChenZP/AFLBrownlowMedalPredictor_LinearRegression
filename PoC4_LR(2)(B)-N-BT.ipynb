{
 "cells": [
  {
   "cell_type": "markdown",
   "metadata": {},
   "source": [
    "# Proof of Concept 4. Double Linear Regression with Bootstrap using Normalised Data/Both Teams #\n",
    "## For Brownlow Predictor Project ##\n",
    "\n",
    "Trains up 4 models using the 4 Macro Rules of Feature Selection using Normalised Data/Both Team Columns Only (FS_Val = 0.2 and Includes Winloss)\n",
    "\n",
    "Uses experimental method of bootstrapping test cases so that the 3-votes/2-votes/1-vote rows are equal in number to 0-vote rows together with experimental method of doing two steps of Linear Regression: the first to pick out the three players most likely to get votes, and the second to allocate those three players 3, 2 and 1. (This Proof of Concept only demonstrates adj_votes = 2) \n",
    "\n",
    "\n",
    "**Author: `Lang (Ron) Chen` 2021.12-2022.1**\n",
    "\n",
    "___"
   ]
  },
  {
   "cell_type": "markdown",
   "metadata": {},
   "source": [
    "**0. Import Libraries**"
   ]
  },
  {
   "cell_type": "code",
   "execution_count": 1,
   "metadata": {},
   "outputs": [],
   "source": [
    "import pandas as pd\n",
    "import os\n",
    "from sklearn.model_selection import train_test_split\n",
    "from sklearn import linear_model\n",
    "from sklearn.metrics import mean_squared_error, r2_score\n",
    "import numpy as np\n",
    "\n",
    "from BrownlowPredictorTools2.predict import predict1, predict2\n",
    "from BrownlowPredictorTools2.test import test1, test2\n",
    "from BrownlowPredictorTools.return_tp import return_tp\n",
    "from BrownlowPredictorTools2.wholeseason import wholeseason\n",
    "from BrownlowPredictorTools.feature_selection2 import feature_selection2"
   ]
  },
  {
   "cell_type": "code",
   "execution_count": 2,
   "metadata": {},
   "outputs": [],
   "source": [
    "choice = 'NormalisedData'"
   ]
  },
  {
   "cell_type": "code",
   "execution_count": 3,
   "metadata": {},
   "outputs": [],
   "source": [
    "filelist = os.listdir(f'./Data/{choice}')[1:]\n",
    "# Remove the first file (an ipynb checkpoint file)"
   ]
  },
  {
   "cell_type": "markdown",
   "metadata": {},
   "source": [
    "**1. Feature Selection**"
   ]
  },
  {
   "cell_type": "code",
   "execution_count": 4,
   "metadata": {},
   "outputs": [],
   "source": [
    "# Gets list of emperical test games (full 2021 season)\n",
    "final_test_games = [file for file in filelist if '2021' in file]"
   ]
  },
  {
   "cell_type": "code",
   "execution_count": 5,
   "metadata": {},
   "outputs": [],
   "source": [
    "# Gathers full games list (except 2021) and performs a single Train-Test Split (note different from previous KFold)\n",
    "test_train_games = [file for file in filelist if '2021' not in file]\n",
    "train_games, test_games = train_test_split(test_train_games, train_size = 0.8, test_size = 0.2, random_state = 42)"
   ]
  },
  {
   "cell_type": "code",
   "execution_count": 6,
   "metadata": {},
   "outputs": [],
   "source": [
    "# Read in pre-prepared sample data of trained data only \n",
    "# (the same rows as if we used concatenated all the data from the train_games list)\n",
    "train_data = pd.read_csv('Train_Data (N).csv')"
   ]
  },
  {
   "cell_type": "code",
   "execution_count": 7,
   "metadata": {},
   "outputs": [],
   "source": [
    "ADJ_VOTES = 2\n",
    "\n",
    "# Means replace the all rows with votes's labels (Brownlow Votes) to 2 votes (the mean).\n",
    "# Alternatives: 1 vote (min), 3 votes (max) "
   ]
  },
  {
   "cell_type": "markdown",
   "metadata": {},
   "source": [
    "Bootstrap"
   ]
  },
  {
   "cell_type": "code",
   "execution_count": 8,
   "metadata": {},
   "outputs": [
    {
     "name": "stderr",
     "output_type": "stream",
     "text": [
      "C:\\Users\\GZCHE\\anaconda3\\lib\\site-packages\\ipykernel_launcher.py:6: SettingWithCopyWarning: \n",
      "A value is trying to be set on a copy of a slice from a DataFrame.\n",
      "Try using .loc[row_indexer,col_indexer] = value instead\n",
      "\n",
      "See the caveats in the documentation: https://pandas.pydata.org/pandas-docs/stable/user_guide/indexing.html#returning-a-view-versus-a-copy\n",
      "  \n"
     ]
    }
   ],
   "source": [
    "# Splits data into zero votes and more than 0 votes\n",
    "zero = train_data[train_data['Brownlow Votes'] == 0]\n",
    "tagged1 = train_data[train_data['Brownlow Votes'] > 0]\n",
    "\n",
    "# Replaces votes with 2\n",
    "tagged1['Brownlow Votes'] = tagged1['Brownlow Votes'].replace([1, 2, 3], ADJ_VOTES)\n",
    "\n",
    "\n",
    "# Bootstraps data\n",
    "\n",
    "# Sample them (using the same random_state (seed) outcome is the same) so tagged has same number of rows as zero\n",
    "new_tagged1 = tagged1.sample(n = len(zero), replace = True, random_state = 42)\n",
    "        \n",
    "# concatenate them together\n",
    "first_lr_data = pd.concat([zero, new_tagged1], axis = 0)\n",
    "\n",
    "second_lr_data = train_data[train_data['Brownlow Votes'] > 0]        "
   ]
  },
  {
   "cell_type": "markdown",
   "metadata": {},
   "source": [
    "Feature Selection"
   ]
  },
  {
   "cell_type": "markdown",
   "metadata": {},
   "source": [
    "*First LR*"
   ]
  },
  {
   "cell_type": "code",
   "execution_count": 9,
   "metadata": {},
   "outputs": [
    {
     "data": {
      "text/plain": [
       "['Kicks BTN',\n",
       " 'Handballs BTN',\n",
       " 'Disposals BTN',\n",
       " 'Marks BTN',\n",
       " 'Goals BTN',\n",
       " 'Behinds BTN',\n",
       " 'Tackles BTN',\n",
       " 'Hitouts BTN',\n",
       " 'Goal Assists BTN',\n",
       " 'Inside 50s BTN',\n",
       " 'Clearances BTN',\n",
       " 'Clangers BTN',\n",
       " 'Rebound 50s BTN',\n",
       " 'Frees For BTN',\n",
       " 'Frees Agains BTN',\n",
       " 'Contested Possessions BTN',\n",
       " 'Uncontested Possessions BTN',\n",
       " 'Effective Disposals BTN',\n",
       " 'Contested Marks BTN',\n",
       " 'Marks Inside 50 BTN',\n",
       " 'One Percenters BTN',\n",
       " 'Bounces BTN',\n",
       " 'Centre Clearances BTN',\n",
       " 'Stoppage Clearances BTN',\n",
       " 'Score Involvements BTN',\n",
       " 'Metres Gained BTN',\n",
       " 'Turnovers BTN',\n",
       " 'Intercepts BTN',\n",
       " 'Tackles Inside 50 BTN',\n",
       " 'Time On Ground % BTN',\n",
       " 'Uncontested Marks BTN',\n",
       " 'Marks Outside 50 BTN',\n",
       " 'Tackles Outside 50 BTN',\n",
       " 'Behind Assists BTN',\n",
       " 'Ineffective Disposals BTN']"
      ]
     },
     "execution_count": 9,
     "metadata": {},
     "output_type": "execute_result"
    }
   ],
   "source": [
    "cols = [col for col in first_lr_data.columns if 'BTN' in col]\n",
    "cols"
   ]
  },
  {
   "cell_type": "code",
   "execution_count": 10,
   "metadata": {},
   "outputs": [
    {
     "data": {
      "text/plain": [
       "{'Kicks BTN': 0.589000074736177,\n",
       " 'Handballs BTN': 0.45483608682845106,\n",
       " 'Disposals BTN': 0.636653301367667,\n",
       " 'Marks BTN': 0.3189152599003634,\n",
       " 'Goals BTN': 0.3524526288548748,\n",
       " 'Behinds BTN': 0.16923791940912486,\n",
       " 'Tackles BTN': 0.27188131586910896,\n",
       " 'Hitouts BTN': 0.0380608008473891,\n",
       " 'Goal Assists BTN': 0.2136809388293751,\n",
       " 'Inside 50s BTN': 0.43094260849047583,\n",
       " 'Clearances BTN': 0.4508083098970477,\n",
       " 'Clangers BTN': -0.23454267346047292,\n",
       " 'Rebound 50s BTN': 0.07060220045154116,\n",
       " 'Frees For BTN': 0.27489825301551696,\n",
       " 'Frees Agains BTN': -0.06697508470228745,\n",
       " 'Contested Possessions BTN': 0.5538266933134951,\n",
       " 'Uncontested Possessions BTN': 0.4834979807852794,\n",
       " 'Effective Disposals BTN': 0.594316422451107,\n",
       " 'Contested Marks BTN': 0.15727337905394279,\n",
       " 'Marks Inside 50 BTN': 0.23800873532671127,\n",
       " 'One Percenters BTN': -0.11279664409086788,\n",
       " 'Bounces BTN': 0.1390721199903441,\n",
       " 'Centre Clearances BTN': 0.37290960444057863,\n",
       " 'Stoppage Clearances BTN': 0.41052881923720386,\n",
       " 'Score Involvements BTN': 0.589838690314682,\n",
       " 'Metres Gained BTN': 0.5192537910293825,\n",
       " 'Turnovers BTN': -0.33201305494123134,\n",
       " 'Intercepts BTN': 0.10032048341659067,\n",
       " 'Tackles Inside 50 BTN': 0.13306945208425314,\n",
       " 'Time On Ground % BTN': 0.17911973550182472,\n",
       " 'Uncontested Marks BTN': 0.2789612570834979,\n",
       " 'Marks Outside 50 BTN': 0.21329563818393266,\n",
       " 'Tackles Outside 50 BTN': 0.2502812585401404,\n",
       " 'Behind Assists BTN': 0.5772098359038572,\n",
       " 'Ineffective Disposals BTN': 0.4735422162518351}"
      ]
     },
     "execution_count": 10,
     "metadata": {},
     "output_type": "execute_result"
    }
   ],
   "source": [
    "corr1 = dict()\n",
    "for col in cols:\n",
    "    corr1[col] = first_lr_data[[col, 'Brownlow Votes']].corr(method = 'pearson').loc[col]['Brownlow Votes']\n",
    "corr1"
   ]
  },
  {
   "cell_type": "code",
   "execution_count": 11,
   "metadata": {},
   "outputs": [
    {
     "data": {
      "text/plain": [
       "[('Kicks BTN', 0.589000074736177),\n",
       " ('Handballs BTN', 0.45483608682845106),\n",
       " ('Disposals BTN', 0.636653301367667),\n",
       " ('Marks BTN', 0.3189152599003634),\n",
       " ('Goals BTN', 0.3524526288548748),\n",
       " ('Behinds BTN', 0.16923791940912486),\n",
       " ('Tackles BTN', 0.27188131586910896),\n",
       " ('Hitouts BTN', 0.0380608008473891),\n",
       " ('Goal Assists BTN', 0.2136809388293751),\n",
       " ('Inside 50s BTN', 0.43094260849047583),\n",
       " ('Clearances BTN', 0.4508083098970477),\n",
       " ('Clangers BTN', -0.23454267346047292),\n",
       " ('Rebound 50s BTN', 0.07060220045154116),\n",
       " ('Frees For BTN', 0.27489825301551696),\n",
       " ('Frees Agains BTN', -0.06697508470228745),\n",
       " ('Contested Possessions BTN', 0.5538266933134951),\n",
       " ('Uncontested Possessions BTN', 0.4834979807852794),\n",
       " ('Effective Disposals BTN', 0.594316422451107),\n",
       " ('Contested Marks BTN', 0.15727337905394279),\n",
       " ('Marks Inside 50 BTN', 0.23800873532671127),\n",
       " ('One Percenters BTN', -0.11279664409086788),\n",
       " ('Bounces BTN', 0.1390721199903441),\n",
       " ('Centre Clearances BTN', 0.37290960444057863),\n",
       " ('Stoppage Clearances BTN', 0.41052881923720386),\n",
       " ('Score Involvements BTN', 0.589838690314682),\n",
       " ('Metres Gained BTN', 0.5192537910293825),\n",
       " ('Turnovers BTN', -0.33201305494123134),\n",
       " ('Intercepts BTN', 0.10032048341659067),\n",
       " ('Tackles Inside 50 BTN', 0.13306945208425314),\n",
       " ('Time On Ground % BTN', 0.17911973550182472),\n",
       " ('Uncontested Marks BTN', 0.2789612570834979),\n",
       " ('Marks Outside 50 BTN', 0.21329563818393266),\n",
       " ('Tackles Outside 50 BTN', 0.2502812585401404),\n",
       " ('Behind Assists BTN', 0.5772098359038572),\n",
       " ('Ineffective Disposals BTN', 0.4735422162518351)]"
      ]
     },
     "execution_count": 11,
     "metadata": {},
     "output_type": "execute_result"
    }
   ],
   "source": [
    "corr1 = list(corr1.items())\n",
    "corr1"
   ]
  },
  {
   "cell_type": "code",
   "execution_count": 12,
   "metadata": {},
   "outputs": [
    {
     "data": {
      "text/plain": [
       "['Kicks BTN',\n",
       " 'Handballs BTN',\n",
       " 'Disposals BTN',\n",
       " 'Marks BTN',\n",
       " 'Goals BTN',\n",
       " 'Tackles BTN',\n",
       " 'Goal Assists BTN',\n",
       " 'Inside 50s BTN',\n",
       " 'Clearances BTN',\n",
       " 'Frees For BTN',\n",
       " 'Contested Possessions BTN',\n",
       " 'Uncontested Possessions BTN',\n",
       " 'Effective Disposals BTN',\n",
       " 'Marks Inside 50 BTN',\n",
       " 'Centre Clearances BTN',\n",
       " 'Stoppage Clearances BTN',\n",
       " 'Score Involvements BTN',\n",
       " 'Metres Gained BTN',\n",
       " 'Uncontested Marks BTN',\n",
       " 'Marks Outside 50 BTN',\n",
       " 'Tackles Outside 50 BTN',\n",
       " 'Behind Assists BTN',\n",
       " 'Ineffective Disposals BTN']"
      ]
     },
     "execution_count": 12,
     "metadata": {},
     "output_type": "execute_result"
    }
   ],
   "source": [
    "selected_features1 = [col[0] for col in corr1 if col[1] > 0.2]\n",
    "selected_features1"
   ]
  },
  {
   "cell_type": "markdown",
   "metadata": {},
   "source": [
    "*Second LR*"
   ]
  },
  {
   "cell_type": "code",
   "execution_count": 13,
   "metadata": {},
   "outputs": [
    {
     "data": {
      "text/plain": [
       "{'Kicks BTN': 0.1680649816551983,\n",
       " 'Handballs BTN': 0.11410782023284817,\n",
       " 'Disposals BTN': 0.1926596756665896,\n",
       " 'Marks BTN': 0.04002990252320002,\n",
       " 'Goals BTN': 0.1118167497113383,\n",
       " 'Behinds BTN': 0.06519021127478904,\n",
       " 'Tackles BTN': 0.031672694163300645,\n",
       " 'Hitouts BTN': -0.030544084214220304,\n",
       " 'Goal Assists BTN': 0.08259384485804178,\n",
       " 'Inside 50s BTN': 0.13029862043562515,\n",
       " 'Clearances BTN': 0.15623123854389526,\n",
       " 'Clangers BTN': -0.025923232382053286,\n",
       " 'Rebound 50s BTN': -0.02314836114480929,\n",
       " 'Frees For BTN': 0.08207718476473543,\n",
       " 'Frees Agains BTN': -0.01799170634526773,\n",
       " 'Contested Possessions BTN': 0.1921419605619774,\n",
       " 'Uncontested Possessions BTN': 0.0910303167617685,\n",
       " 'Effective Disposals BTN': 0.17264034262690262,\n",
       " 'Contested Marks BTN': 0.037821612504544556,\n",
       " 'Marks Inside 50 BTN': 0.0749445091609433,\n",
       " 'One Percenters BTN': -0.03729972021031526,\n",
       " 'Bounces BTN': 0.03641104120931636,\n",
       " 'Centre Clearances BTN': 0.138043805277034,\n",
       " 'Stoppage Clearances BTN': 0.13152712739654118,\n",
       " 'Score Involvements BTN': 0.24080897928650238,\n",
       " 'Metres Gained BTN': 0.14712849397144653,\n",
       " 'Turnovers BTN': -0.05310486625836316,\n",
       " 'Intercepts BTN': -0.019013816580142184,\n",
       " 'Tackles Inside 50 BTN': 0.00011001968588596714,\n",
       " 'Time On Ground % BTN': 0.012381377439194012,\n",
       " 'Uncontested Marks BTN': 0.02407864870099183,\n",
       " 'Marks Outside 50 BTN': -0.00640864425159542,\n",
       " 'Tackles Outside 50 BTN': 0.03366562096164178,\n",
       " 'Behind Assists BTN': 0.22487809147904297,\n",
       " 'Ineffective Disposals BTN': 0.11627769420949308}"
      ]
     },
     "execution_count": 13,
     "metadata": {},
     "output_type": "execute_result"
    }
   ],
   "source": [
    "corr2 = dict()\n",
    "for col in cols:\n",
    "    corr2[col] = second_lr_data[[col, 'Brownlow Votes']].corr(method = 'pearson').loc[col]['Brownlow Votes']\n",
    "corr2"
   ]
  },
  {
   "cell_type": "code",
   "execution_count": 14,
   "metadata": {},
   "outputs": [
    {
     "data": {
      "text/plain": [
       "[('Kicks BTN', 0.1680649816551983),\n",
       " ('Handballs BTN', 0.11410782023284817),\n",
       " ('Disposals BTN', 0.1926596756665896),\n",
       " ('Marks BTN', 0.04002990252320002),\n",
       " ('Goals BTN', 0.1118167497113383),\n",
       " ('Behinds BTN', 0.06519021127478904),\n",
       " ('Tackles BTN', 0.031672694163300645),\n",
       " ('Hitouts BTN', -0.030544084214220304),\n",
       " ('Goal Assists BTN', 0.08259384485804178),\n",
       " ('Inside 50s BTN', 0.13029862043562515),\n",
       " ('Clearances BTN', 0.15623123854389526),\n",
       " ('Clangers BTN', -0.025923232382053286),\n",
       " ('Rebound 50s BTN', -0.02314836114480929),\n",
       " ('Frees For BTN', 0.08207718476473543),\n",
       " ('Frees Agains BTN', -0.01799170634526773),\n",
       " ('Contested Possessions BTN', 0.1921419605619774),\n",
       " ('Uncontested Possessions BTN', 0.0910303167617685),\n",
       " ('Effective Disposals BTN', 0.17264034262690262),\n",
       " ('Contested Marks BTN', 0.037821612504544556),\n",
       " ('Marks Inside 50 BTN', 0.0749445091609433),\n",
       " ('One Percenters BTN', -0.03729972021031526),\n",
       " ('Bounces BTN', 0.03641104120931636),\n",
       " ('Centre Clearances BTN', 0.138043805277034),\n",
       " ('Stoppage Clearances BTN', 0.13152712739654118),\n",
       " ('Score Involvements BTN', 0.24080897928650238),\n",
       " ('Metres Gained BTN', 0.14712849397144653),\n",
       " ('Turnovers BTN', -0.05310486625836316),\n",
       " ('Intercepts BTN', -0.019013816580142184),\n",
       " ('Tackles Inside 50 BTN', 0.00011001968588596714),\n",
       " ('Time On Ground % BTN', 0.012381377439194012),\n",
       " ('Uncontested Marks BTN', 0.02407864870099183),\n",
       " ('Marks Outside 50 BTN', -0.00640864425159542),\n",
       " ('Tackles Outside 50 BTN', 0.03366562096164178),\n",
       " ('Behind Assists BTN', 0.22487809147904297),\n",
       " ('Ineffective Disposals BTN', 0.11627769420949308)]"
      ]
     },
     "execution_count": 14,
     "metadata": {},
     "output_type": "execute_result"
    }
   ],
   "source": [
    "sort_corr2 = list(corr2.items())\n",
    "sort_corr2"
   ]
  },
  {
   "cell_type": "code",
   "execution_count": 15,
   "metadata": {},
   "outputs": [
    {
     "data": {
      "text/plain": [
       "['Score Involvements BTN', 'Behind Assists BTN']"
      ]
     },
     "execution_count": 15,
     "metadata": {},
     "output_type": "execute_result"
    }
   ],
   "source": [
    "selected_features2 = [col[0] for col in sort_corr2 if col[1] > 0.2]\n",
    "selected_features2"
   ]
  },
  {
   "cell_type": "markdown",
   "metadata": {},
   "source": [
    "**2.Trains Models**"
   ]
  },
  {
   "cell_type": "markdown",
   "metadata": {},
   "source": [
    "0. Demonstration of functions (completely same as those in libraries)\n",
    "\n",
    "Uses same functions as PoC3_LR(2)-N-BT.ipynb - see that notebook for details"
   ]
  },
  {
   "cell_type": "markdown",
   "metadata": {},
   "source": [
    " "
   ]
  },
  {
   "cell_type": "markdown",
   "metadata": {},
   "source": [
    "1. Micro Rule of Feature Selection 1: \n",
    "\n",
    "*All cols that passed FS_val selected*"
   ]
  },
  {
   "cell_type": "code",
   "execution_count": 16,
   "metadata": {},
   "outputs": [],
   "source": [
    "# Trains LR model for step 1\n",
    "traindataf_x_1 = first_lr_data[selected_features1]\n",
    "traindataf_x_1.index = range(0,len(first_lr_data))\n",
    "traindataf_y_1 = first_lr_data['Brownlow Votes']\n",
    "traindataf_y_1.index = range(0,len(first_lr_data))\n",
    "\n",
    "lm_f_1 = linear_model.LinearRegression()\n",
    "traindataf_x_1 = traindataf_x_1.replace((np.inf, -np.inf, np.nan), 0).reset_index(drop=True)\n",
    "modelf_1 = lm_f_1.fit(traindataf_x_1, traindataf_y_1)"
   ]
  },
  {
   "cell_type": "code",
   "execution_count": 17,
   "metadata": {},
   "outputs": [],
   "source": [
    "# Get predictions and observations for step 1\n",
    "predictionsf_1, testdataf_y_1 = predict1(test_games, lm_f_1, selected_features1, choice)"
   ]
  },
  {
   "cell_type": "code",
   "execution_count": 18,
   "metadata": {},
   "outputs": [],
   "source": [
    "# Get True Positive/True Negative results for step 1\n",
    "resultf1_1, resultf2_1 = test1(predictionsf_1, testdataf_y_1, 2)"
   ]
  },
  {
   "cell_type": "code",
   "execution_count": 19,
   "metadata": {},
   "outputs": [
    {
     "data": {
      "text/plain": [
       "[[0.9713494514857812, 0.028650548514218766],\n",
       " [0.3915574963609898, 0.6084425036390102]]"
      ]
     },
     "execution_count": 19,
     "metadata": {},
     "output_type": "execute_result"
    }
   ],
   "source": [
    "# TP/TN based on what was predicted for step 1\n",
    "resultf1_1"
   ]
  },
  {
   "cell_type": "code",
   "execution_count": 20,
   "metadata": {},
   "outputs": [
    {
     "data": {
      "text/plain": [
       "[[0.9713494514857812, 0.028650548514218766],\n",
       " [0.3915574963609898, 0.6084425036390102]]"
      ]
     },
     "execution_count": 20,
     "metadata": {},
     "output_type": "execute_result"
    }
   ],
   "source": [
    "# TP/TN based on what was observed for step 1\n",
    "resultf2_1"
   ]
  },
  {
   "cell_type": "code",
   "execution_count": 21,
   "metadata": {},
   "outputs": [
    {
     "data": {
      "text/plain": [
       "(0.9713494514857812, 0.6084425036390102)"
      ]
     },
     "execution_count": 21,
     "metadata": {},
     "output_type": "execute_result"
    }
   ],
   "source": [
    "# Only the True Positive Values for step 1\n",
    "return_tp(resultf1_1)"
   ]
  },
  {
   "cell_type": "code",
   "execution_count": 22,
   "metadata": {},
   "outputs": [],
   "source": [
    "# Trains LR model for step 2\n",
    "traindatas_x_1 = second_lr_data[selected_features2]\n",
    "traindatas_x_1.index = range(0,len(second_lr_data))\n",
    "traindatas_y_1 = second_lr_data['Brownlow Votes']\n",
    "traindatas_y_1.index = range(0,len(second_lr_data))\n",
    "\n",
    "lm_s_1 = linear_model.LinearRegression()\n",
    "traindatas_x_1 = traindatas_x_1.replace((np.inf, -np.inf, np.nan), 0).reset_index(drop=True)\n",
    "models_1 = lm_s_1.fit(traindatas_x_1, traindatas_y_1)"
   ]
  },
  {
   "cell_type": "code",
   "execution_count": 23,
   "metadata": {},
   "outputs": [],
   "source": [
    "# Get predictions and observations for step 2\n",
    "predictionss_1, testdatas_y_1 = predict2(test_games, lm_s_1, selected_features2, choice)"
   ]
  },
  {
   "cell_type": "code",
   "execution_count": 24,
   "metadata": {},
   "outputs": [],
   "source": [
    "# Get True Positive/True Negative results for step 2\n",
    "results1_1, results2_1 = test2(predictionss_1, testdatas_y_1, 3)"
   ]
  },
  {
   "cell_type": "code",
   "execution_count": 25,
   "metadata": {},
   "outputs": [
    {
     "data": {
      "text/plain": [
       "[[0.42358078602620086, 0.3406113537117904, 0.23580786026200873],\n",
       " [0.31877729257641924, 0.34934497816593885, 0.3318777292576419],\n",
       " [0.2576419213973799, 0.31004366812227074, 0.43231441048034935]]"
      ]
     },
     "execution_count": 25,
     "metadata": {},
     "output_type": "execute_result"
    }
   ],
   "source": [
    "# TP/TN based on what was predicted for step 2\n",
    "results1_1"
   ]
  },
  {
   "cell_type": "code",
   "execution_count": 26,
   "metadata": {},
   "outputs": [
    {
     "data": {
      "text/plain": [
       "[[0.42358078602620086, 0.31877729257641924, 0.2576419213973799],\n",
       " [0.3406113537117904, 0.34934497816593885, 0.31004366812227074],\n",
       " [0.23580786026200873, 0.3318777292576419, 0.43231441048034935]]"
      ]
     },
     "execution_count": 26,
     "metadata": {},
     "output_type": "execute_result"
    }
   ],
   "source": [
    "# TP/TN based on what was observed for step 2\n",
    "results2_1"
   ]
  },
  {
   "cell_type": "code",
   "execution_count": 27,
   "metadata": {},
   "outputs": [
    {
     "data": {
      "text/plain": [
       "(0.42358078602620086, 0.34934497816593885, 0.43231441048034935)"
      ]
     },
     "execution_count": 27,
     "metadata": {},
     "output_type": "execute_result"
    }
   ],
   "source": [
    "# Only the True Positive Values for step 2\n",
    "return_tp(results1_1)"
   ]
  },
  {
   "cell_type": "markdown",
   "metadata": {},
   "source": [
    "2. Micro Rule of Feature Selection 2\n",
    "\n",
    "*-For those with dependency/triangle relationships (i.e. A=Disposals/B=Kicks/C=Handballs), if A comes first then B, C excluded. If B or C comes first then A excluded*"
   ]
  },
  {
   "cell_type": "code",
   "execution_count": 28,
   "metadata": {},
   "outputs": [
    {
     "data": {
      "text/plain": [
       "['Kicks BTN',\n",
       " 'Handballs BTN',\n",
       " 'Marks BTN',\n",
       " 'Goals BTN',\n",
       " 'Tackles BTN',\n",
       " 'Goal Assists BTN',\n",
       " 'Inside 50s BTN',\n",
       " 'Clearances BTN',\n",
       " 'Frees For BTN',\n",
       " 'Contested Possessions BTN',\n",
       " 'Uncontested Possessions BTN',\n",
       " 'Effective Disposals BTN',\n",
       " 'Metres Gained BTN',\n",
       " 'Behind Assists BTN',\n",
       " 'Ineffective Disposals BTN']"
      ]
     },
     "execution_count": 28,
     "metadata": {},
     "output_type": "execute_result"
    }
   ],
   "source": [
    "# Selects feature according to micro FS_Rule for step-1\n",
    "selected_features1_2 = feature_selection2(selected_features1, 2, False)\n",
    "selected_features1_2"
   ]
  },
  {
   "cell_type": "code",
   "execution_count": 29,
   "metadata": {},
   "outputs": [
    {
     "data": {
      "text/plain": [
       "['Score Involvements BTN']"
      ]
     },
     "execution_count": 29,
     "metadata": {},
     "output_type": "execute_result"
    }
   ],
   "source": [
    "# Selects feature according to micro FS_Rule for step-2\n",
    "selected_features2_2 = feature_selection2(selected_features2, 2, False)\n",
    "selected_features2_2\n",
    "#All other operations hereonin same as 1."
   ]
  },
  {
   "cell_type": "code",
   "execution_count": 30,
   "metadata": {},
   "outputs": [],
   "source": [
    "traindataf_x_2 = first_lr_data[selected_features1_2]\n",
    "traindataf_x_2.index = range(0,len(first_lr_data))\n",
    "traindataf_y_2 = first_lr_data['Brownlow Votes']\n",
    "traindataf_y_2.index = range(0,len(first_lr_data))\n",
    "\n",
    "lm_f_2 = linear_model.LinearRegression()\n",
    "traindataf_x_2 = traindataf_x_2.replace((np.inf, -np.inf, np.nan), 0).reset_index(drop=True)\n",
    "modelf_2 = lm_f_2.fit(traindataf_x_2, traindataf_y_2)\n",
    "\n",
    "predictionsf_2, testdataf_y_2 = predict1(test_games, lm_f_2, selected_features1_2, choice)\n",
    "\n",
    "resultf1_2, resultf2_2 = test1(predictionsf_2, testdataf_y_2, 2)"
   ]
  },
  {
   "cell_type": "code",
   "execution_count": 31,
   "metadata": {},
   "outputs": [
    {
     "data": {
      "text/plain": [
       "[[0.9707104057940142, 0.029289594205985727],\n",
       " [0.4002911208151383, 0.5997088791848617]]"
      ]
     },
     "execution_count": 31,
     "metadata": {},
     "output_type": "execute_result"
    }
   ],
   "source": [
    "resultf1_2"
   ]
  },
  {
   "cell_type": "code",
   "execution_count": 32,
   "metadata": {},
   "outputs": [
    {
     "data": {
      "text/plain": [
       "[[0.9707104057940142, 0.029289594205985727],\n",
       " [0.4002911208151383, 0.5997088791848617]]"
      ]
     },
     "execution_count": 32,
     "metadata": {},
     "output_type": "execute_result"
    }
   ],
   "source": [
    "resultf2_2"
   ]
  },
  {
   "cell_type": "code",
   "execution_count": 33,
   "metadata": {},
   "outputs": [
    {
     "data": {
      "text/plain": [
       "(0.9707104057940142, 0.5997088791848617)"
      ]
     },
     "execution_count": 33,
     "metadata": {},
     "output_type": "execute_result"
    }
   ],
   "source": [
    "return_tp(resultf1_2)"
   ]
  },
  {
   "cell_type": "code",
   "execution_count": 34,
   "metadata": {},
   "outputs": [],
   "source": [
    "traindatas_x_2 = second_lr_data[selected_features2_2]\n",
    "traindatas_x_2.index = range(0,len(second_lr_data))\n",
    "traindatas_y_2 = second_lr_data['Brownlow Votes']\n",
    "traindatas_y_2.index = range(0,len(second_lr_data))\n",
    "\n",
    "lm_s_2 = linear_model.LinearRegression()\n",
    "traindatas_x_2 = traindatas_x_2.replace((np.inf, -np.inf, np.nan), 0).reset_index(drop=True)\n",
    "models_2 = lm_s_2.fit(traindatas_x_2, traindatas_y_2)\n",
    "\n",
    "predictionss_2, testdatas_y_2 = predict2(test_games, lm_s_2, selected_features2_2, choice)\n",
    "\n",
    "results1_2, results2_2 = test2(predictionss_2, testdatas_y_2, 3)"
   ]
  },
  {
   "cell_type": "code",
   "execution_count": 35,
   "metadata": {},
   "outputs": [
    {
     "data": {
      "text/plain": [
       "[[0.43231441048034935, 0.32751091703056767, 0.24017467248908297],\n",
       " [0.31877729257641924, 0.38427947598253276, 0.29694323144104806],\n",
       " [0.24890829694323144, 0.28820960698689957, 0.462882096069869]]"
      ]
     },
     "execution_count": 35,
     "metadata": {},
     "output_type": "execute_result"
    }
   ],
   "source": [
    "results1_2"
   ]
  },
  {
   "cell_type": "code",
   "execution_count": 36,
   "metadata": {},
   "outputs": [
    {
     "data": {
      "text/plain": [
       "[[0.43231441048034935, 0.31877729257641924, 0.24890829694323144],\n",
       " [0.32751091703056767, 0.38427947598253276, 0.28820960698689957],\n",
       " [0.24017467248908297, 0.29694323144104806, 0.462882096069869]]"
      ]
     },
     "execution_count": 36,
     "metadata": {},
     "output_type": "execute_result"
    }
   ],
   "source": [
    "results2_2"
   ]
  },
  {
   "cell_type": "code",
   "execution_count": 37,
   "metadata": {},
   "outputs": [
    {
     "data": {
      "text/plain": [
       "(0.43231441048034935, 0.38427947598253276, 0.462882096069869)"
      ]
     },
     "execution_count": 37,
     "metadata": {},
     "output_type": "execute_result"
    }
   ],
   "source": [
    "return_tp(results1_2)"
   ]
  },
  {
   "cell_type": "markdown",
   "metadata": {},
   "source": [
    "3. Micro Rule of Feature Selection 3: \n",
    "\n",
    "*All cols that passed FS_val selected but abandon all 'summary' cols such as Disposal/Tackles/Marks*"
   ]
  },
  {
   "cell_type": "code",
   "execution_count": 38,
   "metadata": {},
   "outputs": [
    {
     "data": {
      "text/plain": [
       "['Kicks BTN',\n",
       " 'Handballs BTN',\n",
       " 'Goals BTN',\n",
       " 'Goal Assists BTN',\n",
       " 'Inside 50s BTN',\n",
       " 'Frees For BTN',\n",
       " 'Contested Possessions BTN',\n",
       " 'Uncontested Possessions BTN',\n",
       " 'Effective Disposals BTN',\n",
       " 'Marks Inside 50 BTN',\n",
       " 'Centre Clearances BTN',\n",
       " 'Stoppage Clearances BTN',\n",
       " 'Metres Gained BTN',\n",
       " 'Uncontested Marks BTN',\n",
       " 'Marks Outside 50 BTN',\n",
       " 'Tackles Outside 50 BTN',\n",
       " 'Behind Assists BTN',\n",
       " 'Ineffective Disposals BTN']"
      ]
     },
     "execution_count": 38,
     "metadata": {},
     "output_type": "execute_result"
    }
   ],
   "source": [
    "selected_features1_3 = feature_selection2(selected_features1, 3, False)\n",
    "selected_features1_3"
   ]
  },
  {
   "cell_type": "code",
   "execution_count": 39,
   "metadata": {},
   "outputs": [
    {
     "data": {
      "text/plain": [
       "['Behind Assists BTN']"
      ]
     },
     "execution_count": 39,
     "metadata": {},
     "output_type": "execute_result"
    }
   ],
   "source": [
    "selected_features2_3 = feature_selection2(selected_features2, 3, False)\n",
    "selected_features2_3"
   ]
  },
  {
   "cell_type": "code",
   "execution_count": 40,
   "metadata": {},
   "outputs": [],
   "source": [
    "traindataf_x_3 = first_lr_data[selected_features1_3]\n",
    "traindataf_x_3.index = range(0,len(first_lr_data))\n",
    "traindataf_y_3 = first_lr_data['Brownlow Votes']\n",
    "traindataf_y_3.index = range(0,len(first_lr_data))\n",
    "\n",
    "lm_f_3 = linear_model.LinearRegression()\n",
    "traindataf_x_3 = traindataf_x_3.replace((np.inf, -np.inf, np.nan), 0).reset_index(drop=True)\n",
    "modelf_3 = lm_f_3.fit(traindataf_x_3, traindataf_y_3)\n",
    "\n",
    "predictionsf_3, testdataf_y_3 = predict1(test_games, lm_f_3, selected_features1_3, choice)\n",
    "\n",
    "resultf1_3, resultf2_3 = test1(predictionsf_3, testdataf_y_3, 2)"
   ]
  },
  {
   "cell_type": "code",
   "execution_count": 41,
   "metadata": {},
   "outputs": [
    {
     "data": {
      "text/plain": [
       "[[0.9714559591010757, 0.02854404089892427],\n",
       " [0.3901018922852984, 0.6098981077147017]]"
      ]
     },
     "execution_count": 41,
     "metadata": {},
     "output_type": "execute_result"
    }
   ],
   "source": [
    "resultf1_3"
   ]
  },
  {
   "cell_type": "code",
   "execution_count": 42,
   "metadata": {},
   "outputs": [
    {
     "data": {
      "text/plain": [
       "[[0.9714559591010757, 0.02854404089892427],\n",
       " [0.3901018922852984, 0.6098981077147017]]"
      ]
     },
     "execution_count": 42,
     "metadata": {},
     "output_type": "execute_result"
    }
   ],
   "source": [
    "resultf2_3"
   ]
  },
  {
   "cell_type": "code",
   "execution_count": 43,
   "metadata": {},
   "outputs": [
    {
     "data": {
      "text/plain": [
       "(0.9714559591010757, 0.6098981077147017)"
      ]
     },
     "execution_count": 43,
     "metadata": {},
     "output_type": "execute_result"
    }
   ],
   "source": [
    "return_tp(resultf1_3)"
   ]
  },
  {
   "cell_type": "code",
   "execution_count": 44,
   "metadata": {},
   "outputs": [],
   "source": [
    "traindatas_x_3 = second_lr_data[selected_features2_3]\n",
    "traindatas_x_3.index = range(0,len(second_lr_data))\n",
    "traindatas_y_3 = second_lr_data['Brownlow Votes']\n",
    "traindatas_y_3.index = range(0,len(second_lr_data))\n",
    "\n",
    "lm_s_3 = linear_model.LinearRegression()\n",
    "traindatas_x_3 = traindatas_x_3.replace((np.inf, -np.inf, np.nan), 0).reset_index(drop=True)\n",
    "models_3 = lm_s_3.fit(traindatas_x_3, traindatas_y_3)\n",
    "\n",
    "predictionss_3, testdatas_y_3 = predict2(test_games, lm_s_3, selected_features2_3, choice)\n",
    "\n",
    "results1_3, results2_3 = test2(predictionss_3, testdatas_y_3, 3)"
   ]
  },
  {
   "cell_type": "code",
   "execution_count": 45,
   "metadata": {},
   "outputs": [
    {
     "data": {
      "text/plain": [
       "[[0.4148471615720524, 0.33624454148471616, 0.24890829694323144],\n",
       " [0.3624454148471616, 0.3537117903930131, 0.2838427947598253],\n",
       " [0.22270742358078602, 0.31004366812227074, 0.4672489082969432]]"
      ]
     },
     "execution_count": 45,
     "metadata": {},
     "output_type": "execute_result"
    }
   ],
   "source": [
    "results1_3"
   ]
  },
  {
   "cell_type": "code",
   "execution_count": 46,
   "metadata": {},
   "outputs": [
    {
     "data": {
      "text/plain": [
       "[[0.4148471615720524, 0.3624454148471616, 0.22270742358078602],\n",
       " [0.33624454148471616, 0.3537117903930131, 0.31004366812227074],\n",
       " [0.24890829694323144, 0.2838427947598253, 0.4672489082969432]]"
      ]
     },
     "execution_count": 46,
     "metadata": {},
     "output_type": "execute_result"
    }
   ],
   "source": [
    "results2_3"
   ]
  },
  {
   "cell_type": "code",
   "execution_count": 47,
   "metadata": {},
   "outputs": [
    {
     "data": {
      "text/plain": [
       "(0.4148471615720524, 0.3537117903930131, 0.4672489082969432)"
      ]
     },
     "execution_count": 47,
     "metadata": {},
     "output_type": "execute_result"
    }
   ],
   "source": [
    "return_tp(results1_3)"
   ]
  },
  {
   "cell_type": "markdown",
   "metadata": {},
   "source": [
    "4. Micro Rule of Feature Selection 4: \n",
    "\n",
    "*Exclude Disposals, otherwise as per rule 2*"
   ]
  },
  {
   "cell_type": "code",
   "execution_count": 48,
   "metadata": {},
   "outputs": [
    {
     "data": {
      "text/plain": [
       "['Kicks BTN',\n",
       " 'Handballs BTN',\n",
       " 'Marks BTN',\n",
       " 'Goals BTN',\n",
       " 'Tackles BTN',\n",
       " 'Goal Assists BTN',\n",
       " 'Inside 50s BTN',\n",
       " 'Clearances BTN',\n",
       " 'Frees For BTN',\n",
       " 'Contested Possessions BTN',\n",
       " 'Uncontested Possessions BTN',\n",
       " 'Effective Disposals BTN',\n",
       " 'Metres Gained BTN',\n",
       " 'Behind Assists BTN',\n",
       " 'Ineffective Disposals BTN']"
      ]
     },
     "execution_count": 48,
     "metadata": {},
     "output_type": "execute_result"
    }
   ],
   "source": [
    "selected_features1_4 = feature_selection2(selected_features1, 4, False)\n",
    "selected_features1_4"
   ]
  },
  {
   "cell_type": "code",
   "execution_count": 49,
   "metadata": {},
   "outputs": [
    {
     "data": {
      "text/plain": [
       "['Kicks BTN',\n",
       " 'Handballs BTN',\n",
       " 'Marks BTN',\n",
       " 'Goals BTN',\n",
       " 'Tackles BTN',\n",
       " 'Goal Assists BTN',\n",
       " 'Inside 50s BTN',\n",
       " 'Clearances BTN',\n",
       " 'Frees For BTN',\n",
       " 'Contested Possessions BTN',\n",
       " 'Uncontested Possessions BTN',\n",
       " 'Effective Disposals BTN',\n",
       " 'Metres Gained BTN',\n",
       " 'Behind Assists BTN',\n",
       " 'Ineffective Disposals BTN']"
      ]
     },
     "execution_count": 49,
     "metadata": {},
     "output_type": "execute_result"
    }
   ],
   "source": [
    "selected_features2_4 = feature_selection2(selected_features1, 4, False)\n",
    "selected_features2_4"
   ]
  },
  {
   "cell_type": "code",
   "execution_count": 50,
   "metadata": {},
   "outputs": [],
   "source": [
    "traindataf_x_4 = first_lr_data[selected_features1_4]\n",
    "traindataf_x_4.index = range(0,len(first_lr_data))\n",
    "traindataf_y_4 = first_lr_data['Brownlow Votes']\n",
    "traindataf_y_4.index = range(0,len(first_lr_data))\n",
    "\n",
    "lm_f_4 = linear_model.LinearRegression()\n",
    "traindataf_x_4 = traindataf_x_4.replace((np.inf, -np.inf, np.nan), 0).reset_index(drop=True)\n",
    "modelf_4 = lm_f_4.fit(traindataf_x_4, traindataf_y_4)\n",
    "\n",
    "predictionsf_4, testdataf_y_4 = predict1(test_games, lm_f_4, selected_features1_4, choice)\n",
    "\n",
    "resultf1_4, resultf2_4 = test1(predictionsf_4, testdataf_y_4, 2)"
   ]
  },
  {
   "cell_type": "code",
   "execution_count": 51,
   "metadata": {},
   "outputs": [
    {
     "data": {
      "text/plain": [
       "[[0.9707104057940142, 0.029289594205985727],\n",
       " [0.4002911208151383, 0.5997088791848617]]"
      ]
     },
     "execution_count": 51,
     "metadata": {},
     "output_type": "execute_result"
    }
   ],
   "source": [
    "resultf1_4"
   ]
  },
  {
   "cell_type": "code",
   "execution_count": 52,
   "metadata": {},
   "outputs": [
    {
     "data": {
      "text/plain": [
       "[[0.9707104057940142, 0.029289594205985727],\n",
       " [0.4002911208151383, 0.5997088791848617]]"
      ]
     },
     "execution_count": 52,
     "metadata": {},
     "output_type": "execute_result"
    }
   ],
   "source": [
    "resultf2_4"
   ]
  },
  {
   "cell_type": "code",
   "execution_count": 53,
   "metadata": {},
   "outputs": [
    {
     "data": {
      "text/plain": [
       "(0.9707104057940142, 0.5997088791848617)"
      ]
     },
     "execution_count": 53,
     "metadata": {},
     "output_type": "execute_result"
    }
   ],
   "source": [
    "return_tp(resultf1_4)"
   ]
  },
  {
   "cell_type": "code",
   "execution_count": 54,
   "metadata": {},
   "outputs": [],
   "source": [
    "traindatas_x_4 = second_lr_data[selected_features2_4]\n",
    "traindatas_x_4.index = range(0,len(second_lr_data))\n",
    "traindatas_y_4 = second_lr_data['Brownlow Votes']\n",
    "traindatas_y_4.index = range(0,len(second_lr_data))\n",
    "\n",
    "lm_s_4 = linear_model.LinearRegression()\n",
    "traindatas_x_4 = traindatas_x_4.replace((np.inf, -np.inf, np.nan), 0).reset_index(drop=True)\n",
    "models_4 = lm_s_4.fit(traindatas_x_4, traindatas_y_4)\n",
    "\n",
    "predictionss_4, testdatas_y_4 = predict2(test_games, lm_s_4, selected_features2_4, choice)\n",
    "\n",
    "results1_4, results2_4 = test2(predictionss_4, testdatas_y_4, 3)"
   ]
  },
  {
   "cell_type": "code",
   "execution_count": 55,
   "metadata": {},
   "outputs": [
    {
     "data": {
      "text/plain": [
       "[[0.5327510917030568, 0.3318777292576419, 0.13537117903930132],\n",
       " [0.2838427947598253, 0.3930131004366812, 0.3231441048034934],\n",
       " [0.18340611353711792, 0.27510917030567683, 0.5414847161572053]]"
      ]
     },
     "execution_count": 55,
     "metadata": {},
     "output_type": "execute_result"
    }
   ],
   "source": [
    "results1_4"
   ]
  },
  {
   "cell_type": "code",
   "execution_count": 56,
   "metadata": {},
   "outputs": [
    {
     "data": {
      "text/plain": [
       "[[0.5327510917030568, 0.2838427947598253, 0.18340611353711792],\n",
       " [0.3318777292576419, 0.3930131004366812, 0.27510917030567683],\n",
       " [0.13537117903930132, 0.3231441048034934, 0.5414847161572053]]"
      ]
     },
     "execution_count": 56,
     "metadata": {},
     "output_type": "execute_result"
    }
   ],
   "source": [
    "results2_4"
   ]
  },
  {
   "cell_type": "code",
   "execution_count": 57,
   "metadata": {},
   "outputs": [
    {
     "data": {
      "text/plain": [
       "(0.5327510917030568, 0.3930131004366812, 0.5414847161572053)"
      ]
     },
     "execution_count": 57,
     "metadata": {},
     "output_type": "execute_result"
    }
   ],
   "source": [
    "return_tp(results1_4)"
   ]
  },
  {
   "cell_type": "markdown",
   "metadata": {},
   "source": [
    "**3. Summary Observations**"
   ]
  },
  {
   "cell_type": "markdown",
   "metadata": {},
   "source": [
    "0. Demonstration of functions (completely same as those in libraries)\n",
    "\n",
    "Uses same functions as PoC3_LR(2)-N-BT.ipynb - see that notebook for details"
   ]
  },
  {
   "cell_type": "markdown",
   "metadata": {},
   "source": [
    " "
   ]
  },
  {
   "cell_type": "markdown",
   "metadata": {},
   "source": [
    "1. Emperical Experiment"
   ]
  },
  {
   "cell_type": "code",
   "execution_count": 58,
   "metadata": {},
   "outputs": [],
   "source": [
    "leaderboard1 = wholeseason(final_test_games, lm_f_1, lm_s_1, selected_features1, selected_features2, choice)\n",
    "leaderboard2 = wholeseason(final_test_games, lm_f_2, lm_s_2, selected_features1_2, selected_features2_2, choice)\n",
    "leaderboard3 = wholeseason(final_test_games, lm_f_3, lm_s_3, selected_features1_3, selected_features2_3, choice)\n",
    "leaderboard4 = wholeseason(final_test_games, lm_f_4, lm_s_4, selected_features1_4, selected_features2_4, choice)"
   ]
  },
  {
   "cell_type": "code",
   "execution_count": 59,
   "metadata": {},
   "outputs": [
    {
     "data": {
      "text/plain": [
       "[('Clayton Oliver', 31),\n",
       " ('Oliver Wines', 30),\n",
       " ('Jack Steele', 30),\n",
       " ('Sam Walsh', 26),\n",
       " ('Darcy Parish', 26),\n",
       " ('Marcus Bontempelli', 26),\n",
       " ('Jarryd Lyons', 25),\n",
       " ('Tom Mitchell', 25),\n",
       " ('Jackson Macrae', 24),\n",
       " ('Touk Miller', 21),\n",
       " ('Christian Petracca', 20),\n",
       " ('Cameron Guthrie', 20),\n",
       " ('Callum Mills', 19),\n",
       " ('Dayne Zorko', 19),\n",
       " ('Luke Parker', 19)]"
      ]
     },
     "execution_count": 59,
     "metadata": {},
     "output_type": "execute_result"
    }
   ],
   "source": [
    "leaderboard1[0:15]"
   ]
  },
  {
   "cell_type": "code",
   "execution_count": 60,
   "metadata": {},
   "outputs": [
    {
     "data": {
      "text/plain": [
       "[('Clayton Oliver', 30),\n",
       " ('Oliver Wines', 30),\n",
       " ('Jack Steele', 30),\n",
       " ('Jarryd Lyons', 28),\n",
       " ('Sam Walsh', 26),\n",
       " ('Darcy Parish', 26),\n",
       " ('Marcus Bontempelli', 26),\n",
       " ('Jackson Macrae', 25),\n",
       " ('Christian Petracca', 25),\n",
       " ('Tom Mitchell', 22),\n",
       " ('Cameron Guthrie', 21),\n",
       " ('Callum Mills', 21),\n",
       " ('Dayne Zorko', 20),\n",
       " ('Rory Laird', 19),\n",
       " ('Touk Miller', 19)]"
      ]
     },
     "execution_count": 60,
     "metadata": {},
     "output_type": "execute_result"
    }
   ],
   "source": [
    "leaderboard2[0:15]"
   ]
  },
  {
   "cell_type": "code",
   "execution_count": 61,
   "metadata": {},
   "outputs": [
    {
     "data": {
      "text/plain": [
       "[('Oliver Wines', 31),\n",
       " ('Jack Steele', 31),\n",
       " ('Clayton Oliver', 29),\n",
       " ('Darcy Parish', 27),\n",
       " ('Jarryd Lyons', 25),\n",
       " ('Jackson Macrae', 25),\n",
       " ('Sam Walsh', 25),\n",
       " ('Marcus Bontempelli', 23),\n",
       " ('Cameron Guthrie', 22),\n",
       " ('Tom Mitchell', 22),\n",
       " ('Christian Petracca', 22),\n",
       " ('Touk Miller', 22),\n",
       " ('Callum Mills', 21),\n",
       " ('Rory Laird', 20),\n",
       " ('Dayne Zorko', 19)]"
      ]
     },
     "execution_count": 61,
     "metadata": {},
     "output_type": "execute_result"
    }
   ],
   "source": [
    "leaderboard3[0:15]"
   ]
  },
  {
   "cell_type": "code",
   "execution_count": 62,
   "metadata": {},
   "outputs": [
    {
     "data": {
      "text/plain": [
       "[('Jack Steele', 37),\n",
       " ('Oliver Wines', 36),\n",
       " ('Clayton Oliver', 30),\n",
       " ('Darcy Parish', 30),\n",
       " ('Jackson Macrae', 29),\n",
       " ('Jarryd Lyons', 27),\n",
       " ('Tom Mitchell', 27),\n",
       " ('Sam Walsh', 26),\n",
       " ('Marcus Bontempelli', 25),\n",
       " ('Touk Miller', 24),\n",
       " ('Rory Laird', 23),\n",
       " ('Christian Petracca', 23),\n",
       " ('Cameron Guthrie', 21),\n",
       " ('Callum Mills', 20),\n",
       " ('Taylor Adams', 20)]"
      ]
     },
     "execution_count": 62,
     "metadata": {},
     "output_type": "execute_result"
    }
   ],
   "source": [
    "leaderboard4[0:15]"
   ]
  },
  {
   "cell_type": "markdown",
   "metadata": {},
   "source": [
    "2. Predictor's r scores"
   ]
  },
  {
   "cell_type": "code",
   "execution_count": 63,
   "metadata": {},
   "outputs": [
    {
     "name": "stdout",
     "output_type": "stream",
     "text": [
      "0.5847730227366119\n",
      "0.05801737930048224\n",
      "0.5782357676007112\n",
      "0.057988964505007234\n",
      "0.5799540663740815\n",
      "0.050570156027257\n",
      "0.5782357676007112\n",
      "0.1356742075092373\n"
     ]
    }
   ],
   "source": [
    "print(lm_f_1.score(traindataf_x_1, traindataf_y_1))\n",
    "print(lm_s_1.score(traindatas_x_1, traindatas_y_1))\n",
    "print(lm_f_2.score(traindataf_x_2, traindataf_y_2))\n",
    "print(lm_s_2.score(traindatas_x_2, traindatas_y_2))\n",
    "print(lm_f_3.score(traindataf_x_3, traindataf_y_3))\n",
    "print(lm_s_3.score(traindatas_x_3, traindatas_y_3))\n",
    "print(lm_f_4.score(traindataf_x_4, traindataf_y_4))\n",
    "print(lm_s_4.score(traindatas_x_4, traindatas_y_4))"
   ]
  },
  {
   "cell_type": "markdown",
   "metadata": {},
   "source": [
    "## Note: A few improvements could be made on this notebook: ##\n",
    "\n",
    "*1. A good way to get real tp1, tp2, tp3 stats may be to use the actual predicted indexes from predict1 in predict2. Current model only tests lm2's ability to rank correctly given the top 3 players, and assumes it has similar capabilities for any three players*"
   ]
  }
 ],
 "metadata": {
  "kernelspec": {
   "display_name": "Python 3 (ipykernel)",
   "language": "python",
   "name": "python3"
  },
  "language_info": {
   "codemirror_mode": {
    "name": "ipython",
    "version": 3
   },
   "file_extension": ".py",
   "mimetype": "text/x-python",
   "name": "python",
   "nbconvert_exporter": "python",
   "pygments_lexer": "ipython3",
   "version": "3.9.7"
  }
 },
 "nbformat": 4,
 "nbformat_minor": 4
}
